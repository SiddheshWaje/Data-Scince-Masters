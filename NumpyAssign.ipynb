{
 "cells": [
  {
   "cell_type": "code",
   "execution_count": 1,
   "id": "71fea723-6fb0-4b4c-9239-661904bda2b1",
   "metadata": {},
   "outputs": [],
   "source": [
    "import numpy as np"
   ]
  },
  {
   "cell_type": "code",
   "execution_count": 9,
   "id": "102793fb-81ee-4fe1-b1fb-cc2399ad5b6d",
   "metadata": {},
   "outputs": [],
   "source": [
    "list_ = [ '1' , '2' , '3' , '4' , '5']\n",
    "array_list = np.array(object = list_)\n"
   ]
  },
  {
   "cell_type": "code",
   "execution_count": 10,
   "id": "55d680e4-8bcd-4f4b-9d57-c6d13909b273",
   "metadata": {},
   "outputs": [
    {
     "data": {
      "text/plain": [
       "array(['1', '2', '3', '4', '5'], dtype='<U1')"
      ]
     },
     "execution_count": 10,
     "metadata": {},
     "output_type": "execute_result"
    }
   ],
   "source": [
    "array_list"
   ]
  },
  {
   "cell_type": "markdown",
   "id": "a88d4c21-424d-423f-8b9a-04ba194d80e9",
   "metadata": {},
   "source": [
    "# Question 1\n"
   ]
  },
  {
   "cell_type": "markdown",
   "id": "1e67f845-2ca3-45fe-9c82-0ce97cb1e08f",
   "metadata": {},
   "source": [
    "# Yes both the data types are different list_ and array_list have different datatypes"
   ]
  },
  {
   "cell_type": "code",
   "execution_count": 11,
   "id": "82b90bfc-6bf1-4684-85c9-c8b1776e0777",
   "metadata": {},
   "outputs": [
    {
     "data": {
      "text/plain": [
       "list"
      ]
     },
     "execution_count": 11,
     "metadata": {},
     "output_type": "execute_result"
    }
   ],
   "source": [
    "type(list_)"
   ]
  },
  {
   "cell_type": "code",
   "execution_count": 12,
   "id": "56ff6517-ad0f-4661-ad7d-eefad620202d",
   "metadata": {},
   "outputs": [
    {
     "data": {
      "text/plain": [
       "numpy.ndarray"
      ]
     },
     "execution_count": 12,
     "metadata": {},
     "output_type": "execute_result"
    }
   ],
   "source": [
    "type(array_list)"
   ]
  },
  {
   "cell_type": "markdown",
   "id": "13408b05-c2a6-4f84-97a6-2fcc05e2b673",
   "metadata": {},
   "source": [
    "# Question 2"
   ]
  },
  {
   "cell_type": "code",
   "execution_count": 13,
   "id": "ab162818-6d11-47b7-8280-959212695ac3",
   "metadata": {},
   "outputs": [
    {
     "name": "stdout",
     "output_type": "stream",
     "text": [
      "<class 'str'>\n",
      "<class 'str'>\n",
      "<class 'str'>\n",
      "<class 'str'>\n",
      "<class 'str'>\n"
     ]
    }
   ],
   "source": [
    "for i in list_:\n",
    "    print(type(i))"
   ]
  },
  {
   "cell_type": "code",
   "execution_count": 14,
   "id": "021c977a-159a-4303-bafe-01d5d7f8e4d2",
   "metadata": {},
   "outputs": [
    {
     "name": "stdout",
     "output_type": "stream",
     "text": [
      "<class 'numpy.str_'>\n",
      "<class 'numpy.str_'>\n",
      "<class 'numpy.str_'>\n",
      "<class 'numpy.str_'>\n",
      "<class 'numpy.str_'>\n"
     ]
    }
   ],
   "source": [
    "for i in array_list:\n",
    "    print(type(i))"
   ]
  },
  {
   "cell_type": "code",
   "execution_count": 15,
   "id": "793cd58e-304e-4ee0-bc64-0b5c3b5110bf",
   "metadata": {},
   "outputs": [],
   "source": [
    "array_list = np.array(object = list_, dtype = int)"
   ]
  },
  {
   "cell_type": "markdown",
   "id": "941dcfed-f36e-4824-a349-9185d45996f4",
   "metadata": {},
   "source": [
    "# Yes after doing above changes there is difference between data types of above code"
   ]
  },
  {
   "cell_type": "markdown",
   "id": "4d40e01d-e1b7-4b14-a971-e329a28d47e4",
   "metadata": {},
   "source": [
    "# Elements in array_list changed to integer and elements in list_ are string"
   ]
  },
  {
   "cell_type": "code",
   "execution_count": 19,
   "id": "b776aaec-25f8-428e-892f-bbdbd98536df",
   "metadata": {},
   "outputs": [
    {
     "name": "stdout",
     "output_type": "stream",
     "text": [
      "<class 'str'>\n",
      "<class 'str'>\n",
      "<class 'str'>\n",
      "<class 'str'>\n",
      "<class 'str'>\n"
     ]
    }
   ],
   "source": [
    "for i in list_:\n",
    "    print(type(i))"
   ]
  },
  {
   "cell_type": "code",
   "execution_count": 20,
   "id": "7e197623-2a90-41c0-baab-d5ed1ee16170",
   "metadata": {},
   "outputs": [
    {
     "name": "stdout",
     "output_type": "stream",
     "text": [
      "<class 'numpy.int64'>\n",
      "<class 'numpy.int64'>\n",
      "<class 'numpy.int64'>\n",
      "<class 'numpy.int64'>\n",
      "<class 'numpy.int64'>\n"
     ]
    }
   ],
   "source": [
    "for i in array_list:\n",
    "    print(type(i))"
   ]
  },
  {
   "cell_type": "markdown",
   "id": "a1ddc035-d9f7-40d1-a321-230e47e9863c",
   "metadata": {},
   "source": [
    "# QUestion 3"
   ]
  },
  {
   "cell_type": "code",
   "execution_count": 22,
   "id": "54e1520f-461b-4c7d-b13b-9eb3cec2cee8",
   "metadata": {},
   "outputs": [],
   "source": [
    "num_list = [ [ 1 , 2 , 3 ] , [ 4 , 5 , 6 ] ]\n",
    "num_array = np.array(object = num_list)\n"
   ]
  },
  {
   "cell_type": "code",
   "execution_count": 24,
   "id": "e3fa844c-0130-4fd4-816f-a7736bee924d",
   "metadata": {},
   "outputs": [
    {
     "data": {
      "text/plain": [
       "array([[1, 2, 3],\n",
       "       [4, 5, 6]])"
      ]
     },
     "execution_count": 24,
     "metadata": {},
     "output_type": "execute_result"
    }
   ],
   "source": [
    "num_array"
   ]
  },
  {
   "cell_type": "code",
   "execution_count": 26,
   "id": "a1b4b397-6cd5-434d-8aca-a6cbf929c4ed",
   "metadata": {},
   "outputs": [
    {
     "data": {
      "text/plain": [
       "(2, 3)"
      ]
     },
     "execution_count": 26,
     "metadata": {},
     "output_type": "execute_result"
    }
   ],
   "source": [
    "np.shape(num_array)"
   ]
  },
  {
   "cell_type": "code",
   "execution_count": 27,
   "id": "31b1c0ed-9353-4a23-b5fb-baf97f0ae602",
   "metadata": {},
   "outputs": [
    {
     "data": {
      "text/plain": [
       "6"
      ]
     },
     "execution_count": 27,
     "metadata": {},
     "output_type": "execute_result"
    }
   ],
   "source": [
    "np.size(num_array)"
   ]
  },
  {
   "cell_type": "markdown",
   "id": "640eb127-877d-4c31-bc8b-3632ad8538a9",
   "metadata": {},
   "source": [
    "# Question 4"
   ]
  },
  {
   "cell_type": "code",
   "execution_count": 30,
   "id": "19e5429b-3099-42df-b264-f287bf6c48e4",
   "metadata": {},
   "outputs": [],
   "source": [
    "zero_mat = [[0,0,0],[0,0,0],[0,0,0]]"
   ]
  },
  {
   "cell_type": "code",
   "execution_count": 31,
   "id": "bb0a4a05-a0c1-4fa4-9501-4405ba06e1ac",
   "metadata": {},
   "outputs": [],
   "source": [
    "mat = np.asarray(zero_mat)"
   ]
  },
  {
   "cell_type": "code",
   "execution_count": 32,
   "id": "9e9c498a-e9b3-4a52-a09f-68797a1d0fd9",
   "metadata": {},
   "outputs": [
    {
     "data": {
      "text/plain": [
       "array([[0, 0, 0],\n",
       "       [0, 0, 0],\n",
       "       [0, 0, 0]])"
      ]
     },
     "execution_count": 32,
     "metadata": {},
     "output_type": "execute_result"
    }
   ],
   "source": [
    "mat"
   ]
  },
  {
   "cell_type": "markdown",
   "id": "2cb370b6-9f09-48bb-8a37-88bf0056069d",
   "metadata": {},
   "source": [
    "# Question 5"
   ]
  },
  {
   "cell_type": "code",
   "execution_count": 36,
   "id": "475341be-52e2-41f9-b7bc-3cf126dc3f95",
   "metadata": {},
   "outputs": [],
   "source": [
    "identity_mat = np.diag((1,1,1,1,1))"
   ]
  },
  {
   "cell_type": "code",
   "execution_count": 37,
   "id": "194505d8-0785-4f55-a037-3b9e2861ccf1",
   "metadata": {},
   "outputs": [
    {
     "data": {
      "text/plain": [
       "array([[1, 0, 0, 0, 0],\n",
       "       [0, 1, 0, 0, 0],\n",
       "       [0, 0, 1, 0, 0],\n",
       "       [0, 0, 0, 1, 0],\n",
       "       [0, 0, 0, 0, 1]])"
      ]
     },
     "execution_count": 37,
     "metadata": {},
     "output_type": "execute_result"
    }
   ],
   "source": [
    "identity_mat"
   ]
  },
  {
   "cell_type": "code",
   "execution_count": null,
   "id": "5da98db7-b25e-4788-9d9a-3eb7e59627c8",
   "metadata": {},
   "outputs": [],
   "source": []
  }
 ],
 "metadata": {
  "kernelspec": {
   "display_name": "Python 3 (ipykernel)",
   "language": "python",
   "name": "python3"
  },
  "language_info": {
   "codemirror_mode": {
    "name": "ipython",
    "version": 3
   },
   "file_extension": ".py",
   "mimetype": "text/x-python",
   "name": "python",
   "nbconvert_exporter": "python",
   "pygments_lexer": "ipython3",
   "version": "3.10.8"
  }
 },
 "nbformat": 4,
 "nbformat_minor": 5
}
