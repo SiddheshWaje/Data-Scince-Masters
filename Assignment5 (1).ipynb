{
 "cells": [
  {
   "cell_type": "markdown",
   "id": "8dc9e698-6067-4f58-9c08-e12a179b8f9d",
   "metadata": {},
   "source": [
    "# Question 1 "
   ]
  },
  {
   "cell_type": "markdown",
   "id": "5b552e9d-21f9-48de-83a9-42ae7c1ada1e",
   "metadata": {},
   "source": [
    "a class defines the structure of an object, including its data and behavior. For example, we can have a class called \"Person\" that includes the properties such as \"name,\" \"age,\" and \"address.\"\n",
    "\n",
    "An Object, on the other hand, is an instance of a class. It is a specific realization of a class, created at runtime, and it holds its own set of data. Objects are often referred to as instances, and they can be created as many times as necessary, each with its own set of data. "
   ]
  },
  {
   "cell_type": "markdown",
   "id": "1d1242f1-703e-4b02-9b3d-6dde340b727b",
   "metadata": {},
   "source": [
    "# Question 2"
   ]
  },
  {
   "cell_type": "markdown",
   "id": "1964f14b-675e-41ea-8408-938efc9501df",
   "metadata": {},
   "source": [
    "Four Pillars of OOPS\n",
    "1) Encapsulation\n",
    "2) Polymorphism\n",
    "3) Inheritance\n",
    "4) Abstraction"
   ]
  },
  {
   "cell_type": "markdown",
   "id": "da0285e4-b4c5-41fe-a14a-43595774882c",
   "metadata": {},
   "source": [
    "# Question 3"
   ]
  },
  {
   "cell_type": "markdown",
   "id": "c64832cc-6eab-4ea8-b961-277f644e2637",
   "metadata": {},
   "source": [
    "All classes have a function called __init__(), which is always executed when the class is being initiated."
   ]
  },
  {
   "cell_type": "code",
   "execution_count": 2,
   "id": "7551a734-961c-448a-8eea-2595c73ce4c2",
   "metadata": {},
   "outputs": [],
   "source": [
    "class Demo:\n",
    "    def __init__(self):\n",
    "        print ('Welcome')"
   ]
  },
  {
   "cell_type": "code",
   "execution_count": 3,
   "id": "14b9bf48-ba21-420d-ac87-ea62406ff303",
   "metadata": {},
   "outputs": [
    {
     "name": "stdout",
     "output_type": "stream",
     "text": [
      "Welcome\n"
     ]
    }
   ],
   "source": [
    "a=Demo()"
   ]
  },
  {
   "cell_type": "markdown",
   "id": "c0e2595b-5a34-4596-90d4-38f6e2e91316",
   "metadata": {},
   "source": [
    "# Question 4"
   ]
  },
  {
   "cell_type": "markdown",
   "id": "838afe1a-ec3a-4f66-8d53-16d0fa6eb1d4",
   "metadata": {},
   "source": [
    "The self variable is used to represent the instance of the class which is often used in object-oriented programming. It works as a reference to the object. Python uses the self parameter to refer to instance attributes and methods of the class. "
   ]
  },
  {
   "cell_type": "markdown",
   "id": "9b15f393-31b2-4241-b461-6da96d2a8cc2",
   "metadata": {},
   "source": [
    "# Question 5"
   ]
  },
  {
   "cell_type": "markdown",
   "id": "6ff9c24d-6bb8-488f-a01a-089e2c8a7640",
   "metadata": {},
   "source": [
    "Inheritance is defined as the mechanism of inheriting the properties of the base class to the child class. "
   ]
  },
  {
   "cell_type": "markdown",
   "id": "41d6b1f6-c91e-407e-bffc-336d5c2191a2",
   "metadata": {},
   "source": [
    "1)Single inheritance enables a derived class to inherit properties from a single parent class, thus enabling code reusability and the addition of new features to existing code."
   ]
  },
  {
   "cell_type": "markdown",
   "id": "0d348ff3-7cb5-4e62-964a-35069167ae94",
   "metadata": {},
   "source": [
    "2)When a class can be derived from more than one base class this type of inheritance is called multiple inheritances. In multiple inheritances, all the features of the base classes are inherited into the derived class. "
   ]
  },
  {
   "cell_type": "markdown",
   "id": "bd6c298c-239b-413d-b7cd-7302bfd3e81e",
   "metadata": {},
   "source": [
    "3)In multilevel inheritance, features of the base class and the derived class are further inherited into the new derived class. This is similar to a relationship representing a child and a grandfather. "
   ]
  },
  {
   "cell_type": "markdown",
   "id": "541f9c90-e917-471e-9b32-112bc5702e9b",
   "metadata": {},
   "source": [
    "4)When more than one derived class are created from a single base this type of inheritance is called hierarchical inheritance. In this program, we have a parent (base) class and two child (derived) classes.\n",
    "\n"
   ]
  },
  {
   "cell_type": "markdown",
   "id": "f85af9fe-415a-4d17-88be-7bd56e6ab274",
   "metadata": {},
   "source": [
    "5)Inheritance consisting of multiple types of inheritance is called hybrid inheritance."
   ]
  },
  {
   "cell_type": "code",
   "execution_count": null,
   "id": "552bf653-19b8-47d3-a6a1-f0b1d42b8e5e",
   "metadata": {},
   "outputs": [],
   "source": []
  }
 ],
 "metadata": {
  "kernelspec": {
   "display_name": "Python 3 (ipykernel)",
   "language": "python",
   "name": "python3"
  },
  "language_info": {
   "codemirror_mode": {
    "name": "ipython",
    "version": 3
   },
   "file_extension": ".py",
   "mimetype": "text/x-python",
   "name": "python",
   "nbconvert_exporter": "python",
   "pygments_lexer": "ipython3",
   "version": "3.10.8"
  }
 },
 "nbformat": 4,
 "nbformat_minor": 5
}
