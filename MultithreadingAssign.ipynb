{
 "cells": [
  {
   "cell_type": "markdown",
   "id": "539af5fa-d91b-40f3-915d-fcf124999367",
   "metadata": {},
   "source": [
    "### Question 1\n"
   ]
  },
  {
   "cell_type": "markdown",
   "id": "c0d9a271-f266-4f12-a47d-fa7c1f301c62",
   "metadata": {},
   "source": [
    "Multithreading refers to concurrently executing multiple threads by rapidly switching the control of the CPU between threads (called context switching).\n"
   ]
  },
  {
   "cell_type": "markdown",
   "id": "18e45cc0-f3f6-45f7-a122-1bd17797cab6",
   "metadata": {},
   "source": [
    "Threading module is used to handle multithreading"
   ]
  },
  {
   "cell_type": "markdown",
   "id": "30a77f01-5d72-4040-b089-8f20a09923d2",
   "metadata": {},
   "source": [
    "### Question 2"
   ]
  },
  {
   "cell_type": "markdown",
   "id": "5b1a6a73-43cc-4162-8c70-eac34e056e5c",
   "metadata": {},
   "source": [
    "## Threading module is used in python in order to handle multiple threads at the same time"
   ]
  },
  {
   "cell_type": "markdown",
   "id": "09e73fe7-6e19-41f6-b303-684299666f09",
   "metadata": {},
   "source": [
    "## In Python, the method threading.active_co unt() from the threading module is used to count the currently active or running threads."
   ]
  },
  {
   "cell_type": "markdown",
   "id": "093c02d9-1d23-48c1-8d1c-4ca7c6495647",
   "metadata": {},
   "source": [
    "## current_thread() is an inbuilt method of the threading module in Python. It is used to return the current Thread object, which corresponds to the caller's thread of control."
   ]
  },
  {
   "cell_type": "markdown",
   "id": "50789a4f-42e3-4f3c-9842-917d07221d37",
   "metadata": {},
   "source": [
    "## Python eases the programmers’ task by providing a built-in function enumerate() for this task. Enumerate() method adds a counter to an iterable and returns it in a form of enumerating object."
   ]
  },
  {
   "cell_type": "markdown",
   "id": "d59ec5c9-70a6-4fe8-8785-9314d6b79b0a",
   "metadata": {},
   "source": [
    "# Question3"
   ]
  },
  {
   "cell_type": "markdown",
   "id": "8336ac63-403c-466c-be3d-cb0f8cfeef04",
   "metadata": {},
   "source": [
    "## The standard run() method invokes the callable object passed to the object’s constructor as the target argument, if any, with positional and keyword arguments taken from the args and kwargs arguments, respectively."
   ]
  },
  {
   "cell_type": "markdown",
   "id": "c63b0758-82f4-4d99-99a4-0bec2f0ef8b4",
   "metadata": {},
   "source": [
    "## Thread.start() method is an inbuilt method of the Thread class of the threading module in Python. It is used to start a thread's activity. This method calls the run() method internally which then executes the target method. This method must be called at most one time for one thread."
   ]
  },
  {
   "cell_type": "markdown",
   "id": "bbe981b7-bbd7-4a09-9f38-15dc68489340",
   "metadata": {},
   "source": [
    "## The join() method takes all items in an iterable and joins them into one string.\n",
    "\n",
    "A string must be specified as the separator. "
   ]
  },
  {
   "cell_type": "markdown",
   "id": "9489275a-9553-432b-919b-66ae414cf9af",
   "metadata": {},
   "source": [
    "## Thread.is_alive() method is an inbuilt method of the Thread class of the threading module in Python. It uses a Thread object, and checks whether that thread is alive or not, ie, it is still running or not."
   ]
  },
  {
   "cell_type": "markdown",
   "id": "c6ed7b66-5d3e-4c34-9446-f3a6aef971c1",
   "metadata": {},
   "source": [
    "# Question 4"
   ]
  },
  {
   "cell_type": "code",
   "execution_count": 11,
   "id": "f550c235-f72b-43e1-8e84-837889013171",
   "metadata": {},
   "outputs": [],
   "source": [
    "import threading\n",
    "lst = [1,2,3,4,5,6,7]\n",
    "def square(lst):\n",
    "    lst1 = []\n",
    "    for i in lst:\n",
    "        lst1.append(i*i)\n",
    "    for i in lst1:\n",
    "        print(i)\n",
    "    return lst1\n",
    "def cube(lst):\n",
    "    lst1 = []\n",
    "    for i in lst:\n",
    "        lst1.append(i*i*i)\n",
    "    for i in lst1:\n",
    "        print(i)\n",
    "    return lst1"
   ]
  },
  {
   "cell_type": "code",
   "execution_count": 12,
   "id": "f18b778c-46fc-45cb-9ca8-c6b48c614825",
   "metadata": {},
   "outputs": [
    {
     "name": "stdout",
     "output_type": "stream",
     "text": [
      "1\n",
      "4\n",
      "9\n",
      "16\n",
      "25\n",
      "36\n",
      "49\n",
      "1\n",
      "8\n",
      "27\n",
      "64\n",
      "125\n",
      "216\n",
      "343\n"
     ]
    }
   ],
   "source": [
    "th1 = threading.Thread(target=square,args = (lst,))\n",
    "th2 = threading.Thread(target=cube,args = (lst,))\n",
    "th1.start()\n",
    "th2.start()"
   ]
  },
  {
   "cell_type": "markdown",
   "id": "7ac9d037-e756-4ff3-9981-54d288e20069",
   "metadata": {},
   "source": [
    "# Question 5"
   ]
  },
  {
   "cell_type": "markdown",
   "id": "a445a32a-f067-4c95-a345-1af82e98ae4b",
   "metadata": {},
   "source": [
    "# advantages of multithreading in python"
   ]
  },
  {
   "cell_type": "markdown",
   "id": "fe4d9aa6-e0b9-4148-8962-0efe2288fb6f",
   "metadata": {},
   "source": [
    "1. Enhanced performance by decreased development time\n",
    "2. Simplified and streamlined program coding\n",
    "3. Improvised GUI responsiveness\n",
    "4. Simultaneous and parallelized occurrence of tasks\n",
    "5. Better use of cache storage by utilization of resources\n",
    "6. Decreased cost of maintenance\n",
    "7. Better use of CPU resource"
   ]
  },
  {
   "cell_type": "markdown",
   "id": "741c9ac7-5574-430e-9850-15742b4bcd39",
   "metadata": {},
   "source": [
    "# disadvantages of multithreading in python"
   ]
  },
  {
   "cell_type": "markdown",
   "id": "0c040836-645c-41d4-ac65-1da85f5da25e",
   "metadata": {},
   "source": [
    "1. Complex debugging and testing processes\n",
    "2. Overhead switching of context\n",
    "3. Increased potential for deadlock occurrence\n",
    "4. Increased difficulty level in writing a program\n",
    "5. Unpredictable results"
   ]
  },
  {
   "cell_type": "markdown",
   "id": "efc8ffe5-6701-40f6-ac7f-49aaa354a56e",
   "metadata": {},
   "source": [
    "# Question 6"
   ]
  },
  {
   "cell_type": "markdown",
   "id": "e617afff-458e-4aea-9b6a-d09f15c6344f",
   "metadata": {},
   "source": [
    "## Race Condition : When two processes are competing with each other causing data corruption."
   ]
  },
  {
   "cell_type": "markdown",
   "id": "6045bbfc-ff4d-4d73-b9be-4469ed8a28cd",
   "metadata": {},
   "source": [
    "## DeadLock Condition : When two processes are waiting for each other directly or indirectly, it is called deadlock.\n",
    "\n",
    "This usually occurs when two processes are waiting for shared resources acquired by others."
   ]
  },
  {
   "cell_type": "code",
   "execution_count": null,
   "id": "f6179f85-ea4c-434b-9668-a9f920f69b5f",
   "metadata": {},
   "outputs": [],
   "source": []
  }
 ],
 "metadata": {
  "kernelspec": {
   "display_name": "Python 3 (ipykernel)",
   "language": "python",
   "name": "python3"
  },
  "language_info": {
   "codemirror_mode": {
    "name": "ipython",
    "version": 3
   },
   "file_extension": ".py",
   "mimetype": "text/x-python",
   "name": "python",
   "nbconvert_exporter": "python",
   "pygments_lexer": "ipython3",
   "version": "3.10.8"
  }
 },
 "nbformat": 4,
 "nbformat_minor": 5
}
