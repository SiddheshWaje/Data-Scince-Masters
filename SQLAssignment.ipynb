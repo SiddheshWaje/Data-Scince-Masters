{
 "cells": [
  {
   "cell_type": "markdown",
   "id": "64f51cd7-2b5d-4fc6-8c7b-055e52386144",
   "metadata": {},
   "source": [
    "# Question 1"
   ]
  },
  {
   "cell_type": "markdown",
   "id": "3d1fa709-e8af-41e4-89f4-c71d4f21d479",
   "metadata": {},
   "source": [
    "## A database is a collection of data that is organized in a way that allows for efficient storage, retrieval, and management of that data. There are two main types of databases: SQL (relational) databases and NoSQL (non-relational) databases.\n",
    "\n",
    "SQL (Structured Query Language) databases are based on the relational model of data, which organizes data into tables that have relationships with one another. SQL databases use SQL as their primary language for querying and managing data. SQL databases are known for their reliability, consistency, and ease of use. They typically have a predefined schema that defines the structure of the data and the relationships between tables. Examples of SQL databases include MySQL, PostgreSQL, and Oracle.\n",
    "\n",
    "NoSQL databases, on the other hand, are designed to handle large volumes of unstructured or semi-structured data. NoSQL databases do not use tables with fixed relationships, but rather use flexible data models such as document, key-value, or graph databases. NoSQL databases typically use their own query languages or APIs for querying and managing data. NoSQL databases are known for their scalability, flexibility, and high performance. Examples of NoSQL databases include MongoDB, Cassandra, and Redis.\n",
    "\n",
    "In summary, SQL databases are based on the relational model of data and use SQL as their primary language, while NoSQL databases are designed to handle unstructured or semi-structured data and use flexible data models with their own query languages or APIs."
   ]
  },
  {
   "cell_type": "markdown",
   "id": "7ac918d2-14e4-4f5a-8251-ee2c7cc8cc7e",
   "metadata": {},
   "source": [
    "# Question 2"
   ]
  },
  {
   "cell_type": "markdown",
   "id": "09ae1b8b-d511-4b68-91f9-71d04217ca88",
   "metadata": {},
   "source": [
    "DDL stands for Data Definition Language, and it is a subset of SQL (Structured Query Language) that is used to define and manipulate the structure of database objects, such as tables, views, and indexes. The main purpose of DDL is to create, modify, or delete objects in the database schema."
   ]
  },
  {
   "cell_type": "markdown",
   "id": "dce3ff99-f952-48ce-83c8-e32f9c62ad0c",
   "metadata": {},
   "source": [
    "CREATE: The CREATE statement is used to create new objects in the database, such as tables, views, indexes, and procedures. For example, the following SQL statement creates a new table named \"students\" with three columns:"
   ]
  },
  {
   "cell_type": "code",
   "execution_count": null,
   "id": "103241c9-f201-4f5a-b996-5b8a15e3079e",
   "metadata": {},
   "outputs": [],
   "source": [
    "CREATE TABLE students (\n",
    "  id INT PRIMARY KEY,\n",
    "  name VARCHAR(50),\n",
    "  age INT\n",
    ");\n"
   ]
  },
  {
   "cell_type": "markdown",
   "id": "06d51013-3dce-4607-85e2-5c9be073f9eb",
   "metadata": {},
   "source": [
    "\n",
    "DROP: The DROP statement is used to delete existing objects from the database. For example, the following SQL statement deletes the \"students\" table:"
   ]
  },
  {
   "cell_type": "code",
   "execution_count": null,
   "id": "17b6bf93-bf04-4df3-a8bb-d855de53ee58",
   "metadata": {},
   "outputs": [],
   "source": [
    "DROP TABLE students;\n"
   ]
  },
  {
   "cell_type": "markdown",
   "id": "39229639-7987-496e-8c87-9be420c924d8",
   "metadata": {},
   "source": [
    "ALTER: The ALTER statement is used to modify the structure of existing objects in the database, such as adding or removing columns, changing the data type of a column, or renaming a table. For example, the following SQL statement adds a new column \"gender\" to the \"students\" table:"
   ]
  },
  {
   "cell_type": "code",
   "execution_count": null,
   "id": "eae61a8a-b169-499e-8f9b-51f918d18287",
   "metadata": {},
   "outputs": [],
   "source": [
    "ALTER TABLE students ADD COLUMN gender VARCHAR(10);\n"
   ]
  },
  {
   "cell_type": "markdown",
   "id": "88b22db8-cf4e-484d-979e-f5db964b525b",
   "metadata": {},
   "source": [
    "TRUNCATE: The TRUNCATE statement is used to delete all data from a table while keeping its structure intact. It is faster and more efficient than deleting all the rows one by one using the DELETE statement. For example, the following SQL statement deletes all the data from the \"students\" table:"
   ]
  },
  {
   "cell_type": "code",
   "execution_count": null,
   "id": "6feb1fdd-3862-4e22-8d9e-9f133e24aed1",
   "metadata": {},
   "outputs": [],
   "source": [
    "TRUNCATE TABLE students;\n"
   ]
  },
  {
   "cell_type": "markdown",
   "id": "9fd7afdd-9fca-4594-8587-4437311d898f",
   "metadata": {},
   "source": [
    "# Question 3"
   ]
  },
  {
   "cell_type": "markdown",
   "id": "14cc1901-99ff-4cc4-8aad-cff49180e275",
   "metadata": {},
   "source": [
    "## DML stands for Data Manipulation Language, and it is a subset of SQL (Structured Query Language) that is used to manipulate the data stored in a database. DML statements are used to insert, update, and delete data in tables."
   ]
  },
  {
   "cell_type": "markdown",
   "id": "842f5b2b-5341-48e0-b7b8-db01d8ce45d2",
   "metadata": {},
   "source": [
    "INSERT: The INSERT statement is used to insert new data into a table. For example, the following SQL statement inserts a new row into the \"students\" table:"
   ]
  },
  {
   "cell_type": "code",
   "execution_count": null,
   "id": "c8e3122c-6a9a-40e2-918e-53b89f7c9aa0",
   "metadata": {},
   "outputs": [],
   "source": [
    "INSERT INTO students (id, name, age) VALUES (1, 'John Doe', 20);\n"
   ]
  },
  {
   "cell_type": "markdown",
   "id": "21861445-56c3-4bd7-a79f-41186aac21ba",
   "metadata": {},
   "source": [
    "UPDATE: The UPDATE statement is used to modify existing data in a table. For example, the following SQL statement updates the age of the student with id=1 to 21:"
   ]
  },
  {
   "cell_type": "code",
   "execution_count": null,
   "id": "8d8cd723-1097-49dd-bb18-3daba44d3c19",
   "metadata": {},
   "outputs": [],
   "source": [
    "UPDATE students SET age=21 WHERE id=1;\n"
   ]
  },
  {
   "cell_type": "markdown",
   "id": "8c8c41a7-7b05-4b75-96c1-cc1d14ed331d",
   "metadata": {},
   "source": [
    "DELETE: The DELETE statement is used to delete existing data from a table. For example, the following SQL statement deletes the row with id=1 from the \"students\" table:"
   ]
  },
  {
   "cell_type": "code",
   "execution_count": null,
   "id": "a273688c-00df-40a1-be74-87df9093ad41",
   "metadata": {},
   "outputs": [],
   "source": [
    "DELETE FROM students WHERE id=1;\n"
   ]
  },
  {
   "cell_type": "markdown",
   "id": "30dc1c28-7b8f-44e3-909e-088acc0e684e",
   "metadata": {},
   "source": [
    "# Question 4"
   ]
  },
  {
   "cell_type": "markdown",
   "id": "c979026b-64be-4a6f-a18c-4bc4f598758b",
   "metadata": {},
   "source": [
    "## DQL stands for Data Query Language, and it is a subset of SQL (Structured Query Language) that is used to retrieve data from a database. The SELECT statement is the most commonly used DQL statement, and it is used to select data from one or more tables in a database."
   ]
  },
  {
   "cell_type": "code",
   "execution_count": null,
   "id": "23ea495f-f8d7-476e-a94d-ee951e10c01d",
   "metadata": {},
   "outputs": [],
   "source": [
    "SELECT column1, column2, ... FROM table1 WHERE condition;\n"
   ]
  },
  {
   "cell_type": "markdown",
   "id": "54c8629d-20a2-4496-a8ef-39bbd870e757",
   "metadata": {},
   "source": [
    "# Question 5 "
   ]
  },
  {
   "cell_type": "markdown",
   "id": "00cc93ae-f74f-4bfb-a638-c414c71391bd",
   "metadata": {},
   "source": [
    "## In a relational database, a primary key and a foreign key are two types of constraints that are used to establish relationships between tables.\n",
    "\n",
    "A primary key is a column or a group of columns in a table that uniquely identifies each row in that table. It is used to enforce data integrity and ensure that each row in the table is unique. When a table has a primary key, it can be used as a reference in other tables as a foreign key. The primary key constraint ensures that the primary key column(s) cannot contain null values and must have unique values in each row."
   ]
  },
  {
   "cell_type": "markdown",
   "id": "e2613267-d0dc-4398-b53a-02d8d9931acd",
   "metadata": {},
   "source": [
    "A foreign key is a column or a group of columns in a table that refers to the primary key of another table. It establishes a relationship between two tables and ensures referential integrity. The foreign key constraint ensures that the values in the foreign key column(s) must exist in the primary key column(s) of the referenced table, or be null if the foreign key column(s) allow null values.\n",
    "\n"
   ]
  },
  {
   "cell_type": "markdown",
   "id": "82fa71b8-6e6b-4e92-bf04-2f5ced4c279f",
   "metadata": {},
   "source": [
    "# Question 6\n"
   ]
  },
  {
   "cell_type": "code",
   "execution_count": null,
   "id": "958da560-fb6d-45c7-9000-dd4162bd36d8",
   "metadata": {},
   "outputs": [],
   "source": [
    "import mysql.connector\n",
    "\n",
    "# establish a connection to the database\n",
    "mydb = mysql.connector.connect(\n",
    "  host=\"localhost\",\n",
    "  user=\"yourusername\",\n",
    "  password=\"yourpassword\",\n",
    "  database=\"yourdatabase\"\n",
    ")\n",
    "\n",
    "# create a cursor object\n",
    "mycursor = mydb.cursor()\n",
    "\n",
    "# execute a SQL query\n",
    "mycursor.execute(\"SELECT * FROM yourtable\")\n",
    "\n",
    "# fetch the results\n",
    "results = mycursor.fetchall()\n",
    "\n",
    "# print the results\n",
    "for result in results:\n",
    "  print(result)\n"
   ]
  },
  {
   "cell_type": "markdown",
   "id": "0839836f-b993-4581-904f-2918021a706f",
   "metadata": {},
   "source": [
    "## we create a cursor object using the cursor() method of the database connection object. A cursor object allows us to execute SQL queries on the database."
   ]
  },
  {
   "cell_type": "markdown",
   "id": "1edbd65f-477b-4f0b-939e-494485a40cf6",
   "metadata": {},
   "source": [
    "## execute() method of the cursor object to execute an SQL query. In this example, we execute a simple SELECT query to retrieve all the rows from a table."
   ]
  },
  {
   "cell_type": "markdown",
   "id": "0aa950c2-2a3f-4e30-87c8-bc8e3e7754ba",
   "metadata": {},
   "source": [
    "# Question 7"
   ]
  },
  {
   "cell_type": "markdown",
   "id": "ba48070e-e31f-4ad3-97c4-3aa87513ba58",
   "metadata": {},
   "source": [
    "In general, the order of execution of SQL clauses in an SQL query is as follows:\n",
    "\n",
    "1) FROM clause: The FROM clause specifies the tables or views that are used in the query. It is the first clause in the query and identifies the data sources for the query.\n",
    "\n",
    "2. JOIN clause: The JOIN clause is used to combine rows from two or more tables based on a related column between them. It is usually specified immediately after the FROM clause.\n",
    "\n",
    "3. WHERE clause: The WHERE clause is used to filter the results of the query based on a specified condition. It is usually specified after the JOIN clause and before the GROUP BY clause (if present).\n",
    "\n",
    "4. GROUP BY clause: The GROUP BY clause is used to group the rows of a table based on one or more columns. It is usually specified after the WHERE clause and before the ORDER BY clause (if present).\n",
    "\n",
    "5. HAVING clause: The HAVING clause is used to filter the groups created by the GROUP BY clause based on a specified condition. It is usually specified after the GROUP BY clause and before the ORDER BY clause (if present).\n",
    "\n",
    "6. SELECT clause: The SELECT clause is used to specify the columns to retrieve from the database. It is usually specified after the HAVING clause and before the ORDER BY clause (if present).\n",
    "\n",
    "7. ORDER BY clause: The ORDER BY clause is used to sort the results of the query based on one or more columns. It is usually specified after the SELECT clause and is the last clause in the query."
   ]
  },
  {
   "cell_type": "code",
   "execution_count": null,
   "id": "3ca9fa83-c54f-47d9-be24-77307968a30a",
   "metadata": {},
   "outputs": [],
   "source": []
  }
 ],
 "metadata": {
  "kernelspec": {
   "display_name": "Python 3 (ipykernel)",
   "language": "python",
   "name": "python3"
  },
  "language_info": {
   "codemirror_mode": {
    "name": "ipython",
    "version": 3
   },
   "file_extension": ".py",
   "mimetype": "text/x-python",
   "name": "python",
   "nbconvert_exporter": "python",
   "pygments_lexer": "ipython3",
   "version": "3.10.8"
  }
 },
 "nbformat": 4,
 "nbformat_minor": 5
}
