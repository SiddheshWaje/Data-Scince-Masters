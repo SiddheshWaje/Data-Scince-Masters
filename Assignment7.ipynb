{
 "cells": [
  {
   "cell_type": "code",
   "execution_count": 25,
   "id": "373603e6-656e-4761-ae5c-4c0145185d6b",
   "metadata": {},
   "outputs": [],
   "source": [
    "def passCheck(password):\n",
    "\n",
    "    a=0\n",
    "    b = 0\n",
    "    specialString = \"[@_!#$%^&*()<>?}{~:]\"\n",
    "    for i in password:\n",
    "        if i.isupper():\n",
    "            a = a + 1\n",
    "        elif i.islower():\n",
    "            b = b + 1\n",
    "    if a >= 2 and b >= 2:\n",
    "        a = 0\n",
    "        b=0\n",
    "        for j in password:\n",
    "            if j.isnumeric():\n",
    "                a = a + 1\n",
    "            if j in specialString:\n",
    "                b = b + 1\n",
    "        if len(password) >= 10 and a >= 1 and b >= 3:\n",
    "            return \"Valid Password\"\n",
    "    else:\n",
    "        return \"Invalid Password\"\n",
    "        "
   ]
  },
  {
   "cell_type": "code",
   "execution_count": 26,
   "id": "207d03bd-e538-43c9-b634-a6747dcb024f",
   "metadata": {},
   "outputs": [
    {
     "name": "stdin",
     "output_type": "stream",
     "text": [
      "Please Enter your password SIddhesh1@#$%\n"
     ]
    },
    {
     "data": {
      "text/plain": [
       "'Valid Password'"
      ]
     },
     "execution_count": 26,
     "metadata": {},
     "output_type": "execute_result"
    }
   ],
   "source": [
    "password = input(\"Please Enter your password\")\n",
    "passCheck(password)"
   ]
  },
  {
   "cell_type": "markdown",
   "id": "77b2c288-433b-46bd-b521-a0080af8482c",
   "metadata": {},
   "source": [
    "# Question 2"
   ]
  },
  {
   "cell_type": "markdown",
   "id": "a875274d-b873-4299-8824-36913d930ed5",
   "metadata": {},
   "source": [
    "## Check if the string starts with a particular letter"
   ]
  },
  {
   "cell_type": "code",
   "execution_count": 27,
   "id": "6aa5b5d4-196e-40da-8247-12941cc3cb99",
   "metadata": {},
   "outputs": [],
   "source": [
    "string1='HI what u doing'"
   ]
  },
  {
   "cell_type": "code",
   "execution_count": 28,
   "id": "36bb84c3-e271-4453-9ab8-143a106ba9f5",
   "metadata": {},
   "outputs": [
    {
     "data": {
      "text/plain": [
       "<map at 0x7f856bae2e00>"
      ]
     },
     "execution_count": 28,
     "metadata": {},
     "output_type": "execute_result"
    }
   ],
   "source": [
    "map('H',string1)"
   ]
  },
  {
   "cell_type": "code",
   "execution_count": 31,
   "id": "9e687ba1-97b3-430c-934a-69ad025c2804",
   "metadata": {},
   "outputs": [],
   "source": [
    "a=lambda string1: True if string1[0]=='H' else False"
   ]
  },
  {
   "cell_type": "code",
   "execution_count": 35,
   "id": "15f21a88-4170-48e6-8740-d36e45cbc492",
   "metadata": {},
   "outputs": [
    {
     "name": "stdout",
     "output_type": "stream",
     "text": [
      "True\n"
     ]
    }
   ],
   "source": [
    "print(a(string1))"
   ]
  },
  {
   "cell_type": "code",
   "execution_count": 36,
   "id": "4f3f6388-8412-45e9-8cad-c4ea0854c67d",
   "metadata": {},
   "outputs": [],
   "source": [
    "str1='Pw Skills'"
   ]
  },
  {
   "cell_type": "code",
   "execution_count": 37,
   "id": "e917a5b9-a1ab-404d-a24c-f4e432edd67b",
   "metadata": {},
   "outputs": [
    {
     "data": {
      "text/plain": [
       "False"
      ]
     },
     "execution_count": 37,
     "metadata": {},
     "output_type": "execute_result"
    }
   ],
   "source": [
    "a(str1)"
   ]
  },
  {
   "cell_type": "markdown",
   "id": "2480f38b-3151-41e9-9702-239f4dbf3f54",
   "metadata": {},
   "source": [
    "## Check if the string is numeric"
   ]
  },
  {
   "cell_type": "code",
   "execution_count": 43,
   "id": "500da623-5f27-41c7-8c1f-17f5453aeca8",
   "metadata": {},
   "outputs": [],
   "source": [
    "func=lambda str1: str1.isnumeric()"
   ]
  },
  {
   "cell_type": "code",
   "execution_count": 44,
   "id": "a34fdc1d-0bcc-4454-b7ab-c832856d4bca",
   "metadata": {},
   "outputs": [
    {
     "data": {
      "text/plain": [
       "False"
      ]
     },
     "execution_count": 44,
     "metadata": {},
     "output_type": "execute_result"
    }
   ],
   "source": [
    "func(str1)"
   ]
  },
  {
   "cell_type": "code",
   "execution_count": 45,
   "id": "cee028de-8c3f-4d75-9cc2-ce35d7eac0b6",
   "metadata": {},
   "outputs": [],
   "source": [
    "str2='6785454353'"
   ]
  },
  {
   "cell_type": "code",
   "execution_count": 46,
   "id": "b306c5a5-c886-4813-839a-9d15c833ab05",
   "metadata": {},
   "outputs": [
    {
     "data": {
      "text/plain": [
       "True"
      ]
     },
     "execution_count": 46,
     "metadata": {},
     "output_type": "execute_result"
    }
   ],
   "source": [
    "func(str2)"
   ]
  },
  {
   "cell_type": "markdown",
   "id": "9a2f029f-fb28-4923-8217-f2b6090a40cd",
   "metadata": {},
   "source": [
    "## Sort a list of tuples having fruit names and their quantity. [(\"mango\",99),(\"orange\",80), (\"grapes\", 1000)"
   ]
  },
  {
   "cell_type": "code",
   "execution_count": 62,
   "id": "81af4864-4e2e-47ec-862c-96c591ea3570",
   "metadata": {},
   "outputs": [],
   "source": [
    "fruit =  [(\"mango\",99),(\"orange\",80), (\"grapes\", 1000)]"
   ]
  },
  {
   "cell_type": "code",
   "execution_count": 64,
   "id": "193bb7cc-574e-49ac-a4ac-c50d0b9c3ae6",
   "metadata": {},
   "outputs": [],
   "source": [
    "newfunc=lambda str1 : str1.sort(reverse = True)"
   ]
  },
  {
   "cell_type": "code",
   "execution_count": 65,
   "id": "d6bea050-556f-4e9c-bda3-7f286deec3d0",
   "metadata": {},
   "outputs": [],
   "source": [
    "newfunc(fruit)"
   ]
  },
  {
   "cell_type": "code",
   "execution_count": 66,
   "id": "9487fb05-e2f0-4c1f-afa2-c0f95105ec4a",
   "metadata": {},
   "outputs": [
    {
     "data": {
      "text/plain": [
       "[('orange', 80), ('mango', 99), ('grapes', 1000)]"
      ]
     },
     "execution_count": 66,
     "metadata": {},
     "output_type": "execute_result"
    }
   ],
   "source": [
    "fruit"
   ]
  },
  {
   "cell_type": "markdown",
   "id": "bc3ed34e-0356-452a-8326-826c10dbdddd",
   "metadata": {},
   "source": [
    "## Find the squares of numbers from 1 to 10"
   ]
  },
  {
   "cell_type": "code",
   "execution_count": 69,
   "id": "aa13f8e2-944c-48f3-a1d2-a71ec000380e",
   "metadata": {},
   "outputs": [
    {
     "data": {
      "text/plain": [
       "[1, 4, 9, 16, 25, 36, 49, 64, 81, 100]"
      ]
     },
     "execution_count": 69,
     "metadata": {},
     "output_type": "execute_result"
    }
   ],
   "source": [
    "[i**2 for i in range(1,11)]"
   ]
  },
  {
   "cell_type": "markdown",
   "id": "f5e2bb81-6fb0-4155-8a1e-bcf23329fb8b",
   "metadata": {},
   "source": [
    "## Find the cube root of numbers from 1 to 10"
   ]
  },
  {
   "cell_type": "code",
   "execution_count": 71,
   "id": "91e55d7f-2300-4371-baa2-a45f8209384e",
   "metadata": {},
   "outputs": [
    {
     "data": {
      "text/plain": [
       "[1.0,\n",
       " 1.2599210498948732,\n",
       " 1.4422495703074083,\n",
       " 1.5874010519681994,\n",
       " 1.7099759466766968,\n",
       " 1.8171205928321397,\n",
       " 1.912931182772389,\n",
       " 2.0,\n",
       " 2.080083823051904,\n",
       " 2.154434690031884]"
      ]
     },
     "execution_count": 71,
     "metadata": {},
     "output_type": "execute_result"
    }
   ],
   "source": [
    "[i**(1/3) for i in range(1,11)]"
   ]
  },
  {
   "cell_type": "code",
   "execution_count": 72,
   "id": "aca0e7c2-b2dd-4098-b983-628dbdff180f",
   "metadata": {},
   "outputs": [],
   "source": [
    "even = lambda num : True if num%2 == 0 else False"
   ]
  },
  {
   "cell_type": "code",
   "execution_count": 73,
   "id": "ec999d44-84d6-402f-8400-2d7a346a1425",
   "metadata": {},
   "outputs": [
    {
     "data": {
      "text/plain": [
       "True"
      ]
     },
     "execution_count": 73,
     "metadata": {},
     "output_type": "execute_result"
    }
   ],
   "source": [
    "even(8)"
   ]
  },
  {
   "cell_type": "code",
   "execution_count": 74,
   "id": "ad27f7ec-8562-41ba-b1ce-d8218424de91",
   "metadata": {},
   "outputs": [
    {
     "data": {
      "text/plain": [
       "False"
      ]
     },
     "execution_count": 74,
     "metadata": {},
     "output_type": "execute_result"
    }
   ],
   "source": [
    "even(9)"
   ]
  },
  {
   "cell_type": "markdown",
   "id": "f800148c-9378-4c22-bb95-941e5837132c",
   "metadata": {},
   "source": [
    "## Filter odd numbers from the given list."
   ]
  },
  {
   "cell_type": "code",
   "execution_count": 75,
   "id": "4a5dd168-3ab5-4599-af2f-69fef526293b",
   "metadata": {},
   "outputs": [],
   "source": [
    "lst =[1,2,3,4,5,6,7,8,9,10]"
   ]
  },
  {
   "cell_type": "code",
   "execution_count": 76,
   "id": "f24f34ab-d292-480b-9c14-15d58ac3cfdd",
   "metadata": {},
   "outputs": [],
   "source": [
    "def odd(i):\n",
    "    if i%2 != 0:\n",
    "        return i"
   ]
  },
  {
   "cell_type": "code",
   "execution_count": 77,
   "id": "0ad48266-e4dc-44dc-80e0-896f6bb411e8",
   "metadata": {},
   "outputs": [
    {
     "data": {
      "text/plain": [
       "<filter at 0x7f856b840d60>"
      ]
     },
     "execution_count": 77,
     "metadata": {},
     "output_type": "execute_result"
    }
   ],
   "source": [
    "filter(odd , lst)"
   ]
  },
  {
   "cell_type": "code",
   "execution_count": 78,
   "id": "4c0f9db7-413a-4c92-b05d-f3e4750f919e",
   "metadata": {},
   "outputs": [
    {
     "data": {
      "text/plain": [
       "[1, 3, 5, 7, 9]"
      ]
     },
     "execution_count": 78,
     "metadata": {},
     "output_type": "execute_result"
    }
   ],
   "source": [
    "list(filter(odd , lst))"
   ]
  },
  {
   "cell_type": "markdown",
   "id": "ae2d1dca-7ec1-455a-aa33-fcc6cb06d33a",
   "metadata": {},
   "source": [
    "## Sort a list of integers into positive and negative integers lists."
   ]
  },
  {
   "cell_type": "code",
   "execution_count": 79,
   "id": "eb9c960b-ab4a-480f-9ff8-50d6297380fd",
   "metadata": {},
   "outputs": [],
   "source": [
    "newlist = [1,2,3,4,5,6,-1,-2,-3,-4,-5,0]"
   ]
  },
  {
   "cell_type": "code",
   "execution_count": 84,
   "id": "3f1eb788-fcaa-41a7-bdb7-4084ac8eab0d",
   "metadata": {},
   "outputs": [],
   "source": [
    "positive_list = [i for i in newlist if i>0]"
   ]
  },
  {
   "cell_type": "code",
   "execution_count": 82,
   "id": "91e1c5f3-ff35-4cc2-af17-7c96b6d48142",
   "metadata": {},
   "outputs": [],
   "source": [
    "negative_list = [i for i in newlist if i<0]"
   ]
  },
  {
   "cell_type": "code",
   "execution_count": 85,
   "id": "a56b19fc-8031-42e8-bbb6-c9f61b41ef14",
   "metadata": {},
   "outputs": [
    {
     "name": "stdout",
     "output_type": "stream",
     "text": [
      "List of positive integer [1, 2, 3, 4, 5, 6]\n",
      "List of negative integer [-1, -2, -3, -4, -5]\n"
     ]
    }
   ],
   "source": [
    "print('List of positive integer {}'.format(positive_list))\n",
    "print('List of negative integer {}'.format(negative_list))"
   ]
  },
  {
   "cell_type": "code",
   "execution_count": null,
   "id": "9a444ad7-ce1a-470e-bac8-212881962d3d",
   "metadata": {},
   "outputs": [],
   "source": []
  }
 ],
 "metadata": {
  "kernelspec": {
   "display_name": "Python 3 (ipykernel)",
   "language": "python",
   "name": "python3"
  },
  "language_info": {
   "codemirror_mode": {
    "name": "ipython",
    "version": 3
   },
   "file_extension": ".py",
   "mimetype": "text/x-python",
   "name": "python",
   "nbconvert_exporter": "python",
   "pygments_lexer": "ipython3",
   "version": "3.10.8"
  }
 },
 "nbformat": 4,
 "nbformat_minor": 5
}
