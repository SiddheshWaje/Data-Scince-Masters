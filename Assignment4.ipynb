{
 "cells": [
  {
   "cell_type": "markdown",
   "id": "f436e86f-8f14-4f1b-af23-22886daf247a",
   "metadata": {},
   "source": [
    "# Question 1"
   ]
  },
  {
   "cell_type": "code",
   "execution_count": 1,
   "id": "02496756-fd33-4225-a16d-d71cf248b657",
   "metadata": {},
   "outputs": [
    {
     "name": "stdout",
     "output_type": "stream",
     "text": [
      "[('Virat Kohli', 24936), ('Jack Kallis', 25534), ('Ricky Ponting', 27483), ('Sachin Tendulkar', 34357)]\n"
     ]
    }
   ],
   "source": [
    "list_of_tuples = [('Sachin Tendulkar', 34357), ('Ricky Ponting', 27483), ('Jack Kallis', 25534), ('Virat Kohli', 24936)]\n",
    "\n",
    "sorted_list_of_tuples = sorted(list_of_tuples, key=lambda x: x[1])\n",
    "\n",
    "print(sorted_list_of_tuples)\n"
   ]
  },
  {
   "cell_type": "markdown",
   "id": "601eedbf-f39e-4f93-b8e0-b44c33d6af72",
   "metadata": {},
   "source": [
    "# Question 2"
   ]
  },
  {
   "cell_type": "code",
   "execution_count": 29,
   "id": "e73f6482-6501-463b-accf-567a1c82845f",
   "metadata": {},
   "outputs": [],
   "source": [
    "lst2=[1, 2, 3, 4, 5, 6, 7, 8, 9, 10]"
   ]
  },
  {
   "cell_type": "code",
   "execution_count": 30,
   "id": "b269a599-06c0-4939-88cb-bd33f8efd13e",
   "metadata": {},
   "outputs": [],
   "source": [
    "a1=map(lambda i:i**2,lst2)"
   ]
  },
  {
   "cell_type": "code",
   "execution_count": 32,
   "id": "77897d18-9c47-4188-803a-512eab890d3c",
   "metadata": {},
   "outputs": [
    {
     "name": "stdout",
     "output_type": "stream",
     "text": [
      "[1, 4, 9, 16, 25, 36, 49, 64, 81, 100]\n"
     ]
    }
   ],
   "source": [
    "print(list(a1))"
   ]
  },
  {
   "cell_type": "markdown",
   "id": "4faaa2f4-e135-4080-8ff5-8f6dbc60a3d0",
   "metadata": {},
   "source": [
    "# Question 3"
   ]
  },
  {
   "cell_type": "code",
   "execution_count": 33,
   "id": "4e0116dd-d740-4259-a197-5451ead41dc0",
   "metadata": {},
   "outputs": [],
   "source": [
    "a2=map(lambda i :str(i),lst2)"
   ]
  },
  {
   "cell_type": "code",
   "execution_count": 34,
   "id": "4137bac3-debc-48f2-a136-a03a99a354b9",
   "metadata": {},
   "outputs": [
    {
     "data": {
      "text/plain": [
       "('1', '2', '3', '4', '5', '6', '7', '8', '9', '10')"
      ]
     },
     "execution_count": 34,
     "metadata": {},
     "output_type": "execute_result"
    }
   ],
   "source": [
    "tuple(a2)"
   ]
  },
  {
   "cell_type": "markdown",
   "id": "422dff07-5202-4b5f-a703-cbd453eb4187",
   "metadata": {},
   "source": [
    "# Question 4"
   ]
  },
  {
   "cell_type": "code",
   "execution_count": 35,
   "id": "e06f33d6-4ea9-4be1-9aac-8e2d58f48f1f",
   "metadata": {},
   "outputs": [],
   "source": [
    "lst3=[1,2,3,4,5,6,7,8,9,10,11,12,13,14,15,16,17,18,19,20,21,22,23,24,25]"
   ]
  },
  {
   "cell_type": "code",
   "execution_count": 37,
   "id": "cdf909db-9c30-4b24-b5a4-c2badcd1d622",
   "metadata": {},
   "outputs": [],
   "source": [
    "from functools import reduce\n"
   ]
  },
  {
   "cell_type": "code",
   "execution_count": 38,
   "id": "3130a942-1842-48e7-8bfc-c9fbbcfc94e9",
   "metadata": {},
   "outputs": [
    {
     "data": {
      "text/plain": [
       "15511210043330985984000000"
      ]
     },
     "execution_count": 38,
     "metadata": {},
     "output_type": "execute_result"
    }
   ],
   "source": [
    "reduce(lambda x,y:x*y,lst3)"
   ]
  },
  {
   "cell_type": "markdown",
   "id": "91db8b7d-23d7-44b2-876c-abc1a4585350",
   "metadata": {},
   "source": [
    "# Question 5"
   ]
  },
  {
   "cell_type": "code",
   "execution_count": 40,
   "id": "a4fd2fc8-fdfd-4e9f-b353-eca4c7ce9d62",
   "metadata": {},
   "outputs": [],
   "source": [
    "lst4=[2, 3, 6, 9, 27, 60, 90, 120, 55, 46]"
   ]
  },
  {
   "cell_type": "code",
   "execution_count": 43,
   "id": "48e961d2-6701-4b12-88db-632d28b54507",
   "metadata": {},
   "outputs": [],
   "source": [
    "filtered=filter(lambda x: x%2==0 or x%3==0,lst4)"
   ]
  },
  {
   "cell_type": "code",
   "execution_count": 44,
   "id": "360c771b-9d3a-412b-b672-1983e7aac434",
   "metadata": {},
   "outputs": [
    {
     "name": "stdout",
     "output_type": "stream",
     "text": [
      "<filter object at 0x7fe7c41e9780>\n"
     ]
    }
   ],
   "source": [
    "print(filtered)"
   ]
  },
  {
   "cell_type": "code",
   "execution_count": 45,
   "id": "68daab6e-0e90-46cb-bf90-01d509c98a54",
   "metadata": {},
   "outputs": [
    {
     "data": {
      "text/plain": [
       "[2, 3, 6, 9, 27, 60, 90, 120, 46]"
      ]
     },
     "execution_count": 45,
     "metadata": {},
     "output_type": "execute_result"
    }
   ],
   "source": [
    "list(filtered)"
   ]
  },
  {
   "cell_type": "markdown",
   "id": "3c5feafa-6215-48f9-9add-b37a1b4b3f35",
   "metadata": {},
   "source": [
    "# Question 6"
   ]
  },
  {
   "cell_type": "code",
   "execution_count": 46,
   "id": "9bd4652d-47e3-4e93-ac8c-512213bd45a7",
   "metadata": {},
   "outputs": [],
   "source": [
    "liststring=['python', 'php', 'aba', 'radar', 'level']"
   ]
  },
  {
   "cell_type": "code",
   "execution_count": null,
   "id": "e363502f-86cb-4c7b-92d1-7df6b53dd9ae",
   "metadata": {},
   "outputs": [],
   "source": []
  },
  {
   "cell_type": "code",
   "execution_count": 55,
   "id": "c465da14-6ed0-4fc7-aabc-0e89ece22030",
   "metadata": {},
   "outputs": [],
   "source": [
    "filtered=filter(lambda i:i==i[::-1],liststring)"
   ]
  },
  {
   "cell_type": "code",
   "execution_count": 56,
   "id": "853f374b-6d26-40f5-85e9-b3383d318f81",
   "metadata": {},
   "outputs": [
    {
     "data": {
      "text/plain": [
       "['php', 'aba', 'radar', 'level']"
      ]
     },
     "execution_count": 56,
     "metadata": {},
     "output_type": "execute_result"
    }
   ],
   "source": [
    "list(filtered)"
   ]
  },
  {
   "cell_type": "code",
   "execution_count": null,
   "id": "e08fbcd1-e03b-45ec-be5d-c35e13b33594",
   "metadata": {},
   "outputs": [],
   "source": []
  }
 ],
 "metadata": {
  "kernelspec": {
   "display_name": "Python 3 (ipykernel)",
   "language": "python",
   "name": "python3"
  },
  "language_info": {
   "codemirror_mode": {
    "name": "ipython",
    "version": 3
   },
   "file_extension": ".py",
   "mimetype": "text/x-python",
   "name": "python",
   "nbconvert_exporter": "python",
   "pygments_lexer": "ipython3",
   "version": "3.10.8"
  }
 },
 "nbformat": 4,
 "nbformat_minor": 5
}
