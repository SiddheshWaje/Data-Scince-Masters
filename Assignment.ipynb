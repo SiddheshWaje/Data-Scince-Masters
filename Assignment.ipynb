{
 "cells": [
  {
   "cell_type": "markdown",
   "id": "a38bdd0b-0e41-44ec-a229-c7aab3aaea8e",
   "metadata": {},
   "source": [
    "# Question 1\n"
   ]
  },
  {
   "cell_type": "markdown",
   "id": "e612738a-41f8-4c7b-a986-fb68ffeb5c9b",
   "metadata": {},
   "source": [
    "In Python, an exception is an error that occurs during the execution of a program. When an exception occurs, it interrupts the normal flow of the program and may cause the program to terminate.\n",
    "\n",
    "Exceptions can occur for many reasons, such as when a program tries to access a non-existent variable, divide by zero, or perform an invalid operation. In Python, when an exception occurs, the interpreter raises an exception object which contains information about the error, including a description of the error, the line number where the error occurred, and the traceback of the program's execution up to the point of the error."
   ]
  },
  {
   "cell_type": "markdown",
   "id": "adc55980-4032-4251-a2eb-7c59c2ea4426",
   "metadata": {},
   "source": [
    "### Difference between Exception and Syntax errors"
   ]
  },
  {
   "cell_type": "markdown",
   "id": "5fee7f13-65bc-42e9-85f0-a93f4c1c6719",
   "metadata": {},
   "source": [
    "In Python, a syntax error is an error that occurs when the code violates the rules of the Python language's syntax. These errors are detected by the Python interpreter at compile-time, and they prevent the code from being executed. A common example of a syntax error is forgetting to close a parenthesis or a quotation mark."
   ]
  },
  {
   "cell_type": "markdown",
   "id": "00a6f0e0-b0a6-4545-878a-30e7992c2efb",
   "metadata": {},
   "source": [
    "On the other hand, an exception is an error that occurs during the execution of a program. Unlike syntax errors, exceptions occur at runtime and are caused by unexpected or erroneous conditions that arise while the program is running. Examples of exceptions in Python include division by zero, trying to access an element in a list that doesn't exist, and trying to open a file that doesn't exist."
   ]
  },
  {
   "cell_type": "markdown",
   "id": "356ceed9-77cb-4316-9c48-295edeed51d7",
   "metadata": {},
   "source": [
    "# Question 2"
   ]
  },
  {
   "cell_type": "markdown",
   "id": "5597c429-0866-4df3-8689-ca6ed8c7ff41",
   "metadata": {},
   "source": [
    "When an exception is not handled in Python, it will propagate up the call stack until it is caught by an exception handler or it reaches the top-level of the program, where it will terminate the program and display an error message."
   ]
  },
  {
   "cell_type": "code",
   "execution_count": 1,
   "id": "be88e69b-2a40-42ad-8236-4b2db8400993",
   "metadata": {},
   "outputs": [
    {
     "ename": "ZeroDivisionError",
     "evalue": "division by zero",
     "output_type": "error",
     "traceback": [
      "\u001b[0;31m---------------------------------------------------------------------------\u001b[0m",
      "\u001b[0;31mZeroDivisionError\u001b[0m                         Traceback (most recent call last)",
      "Cell \u001b[0;32mIn[1], line 8\u001b[0m\n\u001b[1;32m      4\u001b[0m \u001b[38;5;28;01mdef\u001b[39;00m \u001b[38;5;21mmain\u001b[39m():\n\u001b[1;32m      5\u001b[0m     divide_by_zero()\n\u001b[0;32m----> 8\u001b[0m \u001b[43mmain\u001b[49m\u001b[43m(\u001b[49m\u001b[43m)\u001b[49m\n",
      "Cell \u001b[0;32mIn[1], line 5\u001b[0m, in \u001b[0;36mmain\u001b[0;34m()\u001b[0m\n\u001b[1;32m      4\u001b[0m \u001b[38;5;28;01mdef\u001b[39;00m \u001b[38;5;21mmain\u001b[39m():\n\u001b[0;32m----> 5\u001b[0m     \u001b[43mdivide_by_zero\u001b[49m\u001b[43m(\u001b[49m\u001b[43m)\u001b[49m\n",
      "Cell \u001b[0;32mIn[1], line 2\u001b[0m, in \u001b[0;36mdivide_by_zero\u001b[0;34m()\u001b[0m\n\u001b[1;32m      1\u001b[0m \u001b[38;5;28;01mdef\u001b[39;00m \u001b[38;5;21mdivide_by_zero\u001b[39m():\n\u001b[0;32m----> 2\u001b[0m     x \u001b[38;5;241m=\u001b[39m \u001b[38;5;241;43m5\u001b[39;49m\u001b[43m \u001b[49m\u001b[38;5;241;43m/\u001b[39;49m\u001b[43m \u001b[49m\u001b[38;5;241;43m0\u001b[39;49m\n",
      "\u001b[0;31mZeroDivisionError\u001b[0m: division by zero"
     ]
    }
   ],
   "source": [
    "def divide_by_zero():\n",
    "    x = 5 / 0\n",
    "\n",
    "def main():\n",
    "    divide_by_zero()\n",
    "\n",
    "\n",
    "main()\n"
   ]
  },
  {
   "cell_type": "code",
   "execution_count": 3,
   "id": "46f605d1-9586-4186-9662-8431e61ca21b",
   "metadata": {},
   "outputs": [
    {
     "name": "stdout",
     "output_type": "stream",
     "text": [
      "There is an error in the code\n"
     ]
    }
   ],
   "source": [
    "try:\n",
    "    main()\n",
    "except:\n",
    "    print(\"There is an error in the code\")\n",
    "else:\n",
    "    print(\"Ececuted successfully\")"
   ]
  },
  {
   "cell_type": "markdown",
   "id": "44a41b45-f481-4950-84dc-5806c9692ae5",
   "metadata": {},
   "source": [
    "# Question3"
   ]
  },
  {
   "cell_type": "markdown",
   "id": "13385142-17f3-4543-aaa9-d14480955018",
   "metadata": {},
   "source": [
    "In Python, the try-except block is used to catch and handle exceptions.\n",
    "\n",
    "The try block contains the code that might raise an exception. If an exception occurs, the program jumps to the except block. The except block contains the code to handle the exception."
   ]
  },
  {
   "cell_type": "code",
   "execution_count": 4,
   "id": "a43964d3-9a27-4552-829d-57a6bb3063c6",
   "metadata": {},
   "outputs": [
    {
     "name": "stdin",
     "output_type": "stream",
     "text": [
      "Enter a number:  \n"
     ]
    },
    {
     "name": "stdout",
     "output_type": "stream",
     "text": [
      "Error: invalid input\n"
     ]
    }
   ],
   "source": [
    "try:\n",
    "    x = int(input(\"Enter a number: \"))\n",
    "    y = 10 / x\n",
    "    print(\"The result is:\", y)\n",
    "except ZeroDivisionError:\n",
    "    print(\"Error: division by zero\")\n",
    "except ValueError:\n",
    "    print(\"Error: invalid input\")\n"
   ]
  },
  {
   "cell_type": "markdown",
   "id": "fb7796b8-bc6c-4b18-8745-090544b7d8c8",
   "metadata": {},
   "source": [
    "# Question 4"
   ]
  },
  {
   "cell_type": "markdown",
   "id": "4df3aa56-5033-426e-b34c-9889bfa7c814",
   "metadata": {},
   "source": [
    "In Python, you can also use the else block with the try-except block. The else block is executed if no exception is raised in the try block."
   ]
  },
  {
   "cell_type": "code",
   "execution_count": 5,
   "id": "c6ffa4a1-fe98-49f3-a008-a9643715721b",
   "metadata": {},
   "outputs": [
    {
     "name": "stdin",
     "output_type": "stream",
     "text": [
      "Enter a number:  10\n"
     ]
    },
    {
     "name": "stdout",
     "output_type": "stream",
     "text": [
      "The input is: 10\n"
     ]
    }
   ],
   "source": [
    "try:\n",
    "    x = int(input(\"Enter a number: \"))\n",
    "except ValueError:\n",
    "    print(\"Invalid input\")\n",
    "else:\n",
    "    print(\"The input is:\", x)\n"
   ]
  },
  {
   "cell_type": "markdown",
   "id": "4bfb2b6c-0c66-41bc-9438-82f43a06da75",
   "metadata": {},
   "source": [
    "The finally block is used to execute code that should always run, regardless of whether an exception is raised or not."
   ]
  },
  {
   "cell_type": "code",
   "execution_count": 6,
   "id": "1390dde6-1e54-4d54-88d0-158bc79d7c42",
   "metadata": {},
   "outputs": [
    {
     "name": "stdout",
     "output_type": "stream",
     "text": [
      "File not found\n"
     ]
    },
    {
     "ename": "NameError",
     "evalue": "name 'f' is not defined",
     "output_type": "error",
     "traceback": [
      "\u001b[0;31m---------------------------------------------------------------------------\u001b[0m",
      "\u001b[0;31mNameError\u001b[0m                                 Traceback (most recent call last)",
      "Cell \u001b[0;32mIn[6], line 7\u001b[0m\n\u001b[1;32m      5\u001b[0m     \u001b[38;5;28mprint\u001b[39m(\u001b[38;5;124m\"\u001b[39m\u001b[38;5;124mFile not found\u001b[39m\u001b[38;5;124m\"\u001b[39m)\n\u001b[1;32m      6\u001b[0m \u001b[38;5;28;01mfinally\u001b[39;00m:\n\u001b[0;32m----> 7\u001b[0m     \u001b[43mf\u001b[49m\u001b[38;5;241m.\u001b[39mclose()\n",
      "\u001b[0;31mNameError\u001b[0m: name 'f' is not defined"
     ]
    }
   ],
   "source": [
    "try:\n",
    "    f = open(\"myfile.txt\")\n",
    "    # some code to read or write the file\n",
    "except FileNotFoundError:\n",
    "    print(\"File not found\")\n",
    "finally:\n",
    "    f.close()\n"
   ]
  },
  {
   "cell_type": "markdown",
   "id": "5097855c-5afb-4f52-9081-3441159ef15c",
   "metadata": {},
   "source": [
    "The raise statement is used to raise an exception. You can raise a built-in exception or define your own custom exception. "
   ]
  },
  {
   "cell_type": "code",
   "execution_count": 7,
   "id": "2d1caa2e-6fb1-4a6f-aca6-d337514fd692",
   "metadata": {},
   "outputs": [
    {
     "name": "stdout",
     "output_type": "stream",
     "text": [
      "Age cannot be negative\n"
     ]
    }
   ],
   "source": [
    "def validate_age(age):\n",
    "    if age < 0:\n",
    "        raise ValueError(\"Age cannot be negative\")\n",
    "    elif age > 120:\n",
    "        raise ValueError(\"Age cannot be greater than 120\")\n",
    "    else:\n",
    "        print(\"Valid age\")\n",
    "\n",
    "try:\n",
    "    validate_age(-5)\n",
    "except ValueError as e:\n",
    "    print(e)\n"
   ]
  },
  {
   "cell_type": "markdown",
   "id": "3905b153-cbab-430f-8344-df97a4bf8180",
   "metadata": {},
   "source": [
    "# Question 5 and Question 6"
   ]
  },
  {
   "cell_type": "markdown",
   "id": "51433673-4b19-4106-9d4b-cf560e7900c7",
   "metadata": {},
   "source": [
    "In Python, you can define your own custom exceptions by creating a new class that inherits from the Exception class or one of its subclasses. Custom exceptions allow you to define and raise exceptions specific to your program's requirements.\n",
    "\n",
    "We need custom exceptions because built-in exceptions may not always accurately describe the error or exception we encounter in our program. In such cases, we can define a custom exception that more accurately describes the error or exception we are facing, and this helps in better understanding the issue and debugging the code."
   ]
  },
  {
   "cell_type": "code",
   "execution_count": 9,
   "id": "1be7e976-9cea-4792-9fea-3344b8a6036b",
   "metadata": {},
   "outputs": [
    {
     "name": "stdout",
     "output_type": "stream",
     "text": [
      "Number cannot be negative\n"
     ]
    }
   ],
   "source": [
    "class NegativeNumberError(Exception):\n",
    "    def __init__(self,msg):\n",
    "        self.msg = msg\n",
    "\n",
    "def calculate_square_root(number):\n",
    "    if number < 0:\n",
    "        raise NegativeNumberError(\"Number cannot be negative\")\n",
    "    else:\n",
    "        return number ** 0.5\n",
    "\n",
    "try:\n",
    "    calculate_square_root(-25)\n",
    "except NegativeNumberError as e:\n",
    "    print(e)\n"
   ]
  },
  {
   "cell_type": "code",
   "execution_count": null,
   "id": "d4339d00-7ae8-47bc-b3a4-60ecfdb0eb11",
   "metadata": {},
   "outputs": [],
   "source": []
  }
 ],
 "metadata": {
  "kernelspec": {
   "display_name": "Python 3 (ipykernel)",
   "language": "python",
   "name": "python3"
  },
  "language_info": {
   "codemirror_mode": {
    "name": "ipython",
    "version": 3
   },
   "file_extension": ".py",
   "mimetype": "text/x-python",
   "name": "python",
   "nbconvert_exporter": "python",
   "pygments_lexer": "ipython3",
   "version": "3.10.8"
  }
 },
 "nbformat": 4,
 "nbformat_minor": 5
}
