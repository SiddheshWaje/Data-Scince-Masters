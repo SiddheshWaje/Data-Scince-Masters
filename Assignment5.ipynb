{
 "cells": [
  {
   "cell_type": "markdown",
   "id": "8dc9e698-6067-4f58-9c08-e12a179b8f9d",
   "metadata": {},
   "source": [
    "# Question 1 "
   ]
  },
  {
   "cell_type": "raw",
   "id": "146f5cd4-b84c-4db2-970c-a7d61ca26bf7",
   "metadata": {},
   "source": [
    "a class defines the structure of an object, including its data and behavior. For example, we can have a class called \"Person\" that includes the properties such as \"name,\" \"age,\" and \"address.\"\n",
    "\n",
    "An Object, on the other hand, is an instance of a class. It is a specific realization of a class, created at runtime, and it holds its own set of data. Objects are often referred to as instances, and they can be created as many times as necessary, each with its own set of data. "
   ]
  },
  {
   "cell_type": "markdown",
   "id": "1d1242f1-703e-4b02-9b3d-6dde340b727b",
   "metadata": {},
   "source": [
    "# Question 2"
   ]
  },
  {
   "cell_type": "raw",
   "id": "fac65811-7d6b-4d31-a6d9-225eaa9839dc",
   "metadata": {},
   "source": [
    "Four Pillars of OOPS\n",
    "1) Encapsulation\n",
    "2) Polymorphism\n",
    "3) Inheritance\n",
    "4) Abstraction"
   ]
  },
  {
   "cell_type": "markdown",
   "id": "da0285e4-b4c5-41fe-a14a-43595774882c",
   "metadata": {},
   "source": [
    "# Question 3"
   ]
  },
  {
   "cell_type": "raw",
   "id": "a7968a7d-4193-4290-8061-812a15ad2646",
   "metadata": {},
   "source": [
    "All classes have a function called __init__(), which is always executed when the class is being initiated."
   ]
  },
  {
   "cell_type": "code",
   "execution_count": 2,
   "id": "7551a734-961c-448a-8eea-2595c73ce4c2",
   "metadata": {},
   "outputs": [],
   "source": [
    "class Demo:\n",
    "    def __init__(self):\n",
    "        print ('Welcome')"
   ]
  },
  {
   "cell_type": "code",
   "execution_count": 3,
   "id": "14b9bf48-ba21-420d-ac87-ea62406ff303",
   "metadata": {},
   "outputs": [
    {
     "name": "stdout",
     "output_type": "stream",
     "text": [
      "Welcome\n"
     ]
    }
   ],
   "source": [
    "a=Demo()"
   ]
  },
  {
   "cell_type": "markdown",
   "id": "c0e2595b-5a34-4596-90d4-38f6e2e91316",
   "metadata": {},
   "source": [
    "# Question 4"
   ]
  },
  {
   "cell_type": "raw",
   "id": "ecf64c5e-4f6b-4809-934a-916e71155dc1",
   "metadata": {},
   "source": [
    "The self variable is used to represent the instance of the class which is often used in object-oriented programming. It works as a reference to the object. Python uses the self parameter to refer to instance attributes and methods of the class. "
   ]
  },
  {
   "cell_type": "markdown",
   "id": "9b15f393-31b2-4241-b461-6da96d2a8cc2",
   "metadata": {},
   "source": [
    "# Question 5"
   ]
  },
  {
   "cell_type": "raw",
   "id": "4d63da89-52f1-4205-9886-41b9d90cc341",
   "metadata": {},
   "source": [
    "Inheritance is defined as the mechanism of inheriting the properties of the base class to the child class. "
   ]
  },
  {
   "cell_type": "raw",
   "id": "135bd7e0-bb7c-468e-ac5b-de0f38ab429f",
   "metadata": {},
   "source": [
    "1)Single inheritance enables a derived class to inherit properties from a single parent class, thus enabling code reusability and the addition of new features to existing code."
   ]
  },
  {
   "cell_type": "raw",
   "id": "ad21b054-9cff-4273-9aba-b77b8d54ccf5",
   "metadata": {},
   "source": [
    "2)When a class can be derived from more than one base class this type of inheritance is called multiple inheritances. In multiple inheritances, all the features of the base classes are inherited into the derived class. "
   ]
  },
  {
   "cell_type": "raw",
   "id": "40bc375f-c48f-4951-bf6d-a45153b65a4a",
   "metadata": {},
   "source": [
    "3)In multilevel inheritance, features of the base class and the derived class are further inherited into the new derived class. This is similar to a relationship representing a child and a grandfather. "
   ]
  },
  {
   "cell_type": "raw",
   "id": "a2d4574d-8cf1-4c95-bda3-2ceaeecc6ca8",
   "metadata": {},
   "source": [
    "4)When more than one derived class are created from a single base this type of inheritance is called hierarchical inheritance. In this program, we have a parent (base) class and two child (derived) classes.\n",
    "\n"
   ]
  },
  {
   "cell_type": "raw",
   "id": "476e3868-2db4-4542-b807-a24f2dc65060",
   "metadata": {},
   "source": [
    "5)Inheritance consisting of multiple types of inheritance is called hybrid inheritance."
   ]
  },
  {
   "cell_type": "code",
   "execution_count": null,
   "id": "552bf653-19b8-47d3-a6a1-f0b1d42b8e5e",
   "metadata": {},
   "outputs": [],
   "source": []
  }
 ],
 "metadata": {
  "kernelspec": {
   "display_name": "Python 3 (ipykernel)",
   "language": "python",
   "name": "python3"
  },
  "language_info": {
   "codemirror_mode": {
    "name": "ipython",
    "version": 3
   },
   "file_extension": ".py",
   "mimetype": "text/x-python",
   "name": "python",
   "nbconvert_exporter": "python",
   "pygments_lexer": "ipython3",
   "version": "3.10.8"
  }
 },
 "nbformat": 4,
 "nbformat_minor": 5
}
