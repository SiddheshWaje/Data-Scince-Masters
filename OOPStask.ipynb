{
 "cells": [
  {
   "cell_type": "markdown",
   "id": "22a79c62-c9a4-4555-9376-8bc252798962",
   "metadata": {},
   "source": [
    "# Question 1"
   ]
  },
  {
   "cell_type": "code",
   "execution_count": 1,
   "id": "4c035a0c-b058-4323-803e-ede3c659cfe4",
   "metadata": {},
   "outputs": [],
   "source": [
    "class vehicle:\n",
    "    def __init__(self,name,max_speed,average):\n",
    "        self.name_of_vehicle = name\n",
    "        self.max_speed = max_speed\n",
    "        self.average_of_vehicle = average"
   ]
  },
  {
   "cell_type": "markdown",
   "id": "312cc66a-671b-4276-a4d0-a004394ed26a",
   "metadata": {},
   "source": [
    "# Question 2"
   ]
  },
  {
   "cell_type": "code",
   "execution_count": 23,
   "id": "eb2077cf-d70b-496b-b549-a61a2a8eca82",
   "metadata": {},
   "outputs": [],
   "source": [
    "class car(vehicle):\n",
    "    def seating_capacity(self,capacity):\n",
    "        return capacity,self.name_of_vehicle"
   ]
  },
  {
   "cell_type": "code",
   "execution_count": 24,
   "id": "a6afb0b8-3f63-4b45-8a12-0e987e6e253c",
   "metadata": {},
   "outputs": [],
   "source": [
    "obj_new = car('Fortuner',220,25)"
   ]
  },
  {
   "cell_type": "code",
   "execution_count": 25,
   "id": "7f2bb3e7-e27d-48e0-9211-bd6b180e61ec",
   "metadata": {},
   "outputs": [
    {
     "data": {
      "text/plain": [
       "(8, 'Fortuner')"
      ]
     },
     "execution_count": 25,
     "metadata": {},
     "output_type": "execute_result"
    }
   ],
   "source": [
    "obj_new.seating_capacity(8)"
   ]
  },
  {
   "cell_type": "markdown",
   "id": "f25920d1-6c66-48f5-8b51-eec7e77e3eec",
   "metadata": {},
   "source": [
    "# Question 3 "
   ]
  },
  {
   "cell_type": "markdown",
   "id": "4126125e-6e8b-4a6a-a8f1-2c262814dad1",
   "metadata": {},
   "source": [
    "Multiple inheritance is a feature of object-oriented programming languages that allows a class to inherit from more than one parent class. In multiple inheritance, a child class can inherit attributes and methods from two or more parent classes, combining their behavior to create a new class.\n",
    "\n"
   ]
  },
  {
   "cell_type": "code",
   "execution_count": 26,
   "id": "e36e0711-b933-455a-9c7c-81a994ddff06",
   "metadata": {},
   "outputs": [],
   "source": [
    "class demo1:\n",
    "    def __init__(self,a):\n",
    "        print(\"Example of multiple inheritance {}\".format(a))\n",
    "    def testcase1(self):\n",
    "        print('This is my Class 1')"
   ]
  },
  {
   "cell_type": "code",
   "execution_count": 27,
   "id": "4019685f-6c36-408a-a8f8-6fddc78955f3",
   "metadata": {},
   "outputs": [],
   "source": [
    "class demo2:\n",
    "    def testcase2(self):\n",
    "        print('This is my Class 2')"
   ]
  },
  {
   "cell_type": "code",
   "execution_count": 28,
   "id": "2fa31936-a8c3-41b9-a508-0a927a698420",
   "metadata": {},
   "outputs": [],
   "source": [
    "class demo3(demo1,demo2):\n",
    "    def testcase3(self):\n",
    "        print('This is my Class 2')"
   ]
  },
  {
   "cell_type": "code",
   "execution_count": 29,
   "id": "997b6769-a19e-4841-b5c5-70d5e0e30920",
   "metadata": {},
   "outputs": [
    {
     "name": "stdout",
     "output_type": "stream",
     "text": [
      "Example of multiple inheritance 10\n"
     ]
    }
   ],
   "source": [
    "obj_multiple = demo3(10)"
   ]
  },
  {
   "cell_type": "code",
   "execution_count": 30,
   "id": "bf33bdc9-7134-4c7a-b659-582d25b96538",
   "metadata": {},
   "outputs": [
    {
     "name": "stdout",
     "output_type": "stream",
     "text": [
      "This is my Class 1\n"
     ]
    }
   ],
   "source": [
    "obj_multiple.testcase1()"
   ]
  },
  {
   "cell_type": "markdown",
   "id": "2b9a89c1-78e3-4330-b1a5-a97724ce3ce3",
   "metadata": {},
   "source": [
    "# Question 4"
   ]
  },
  {
   "cell_type": "markdown",
   "id": "157fee22-09f1-4415-8b82-30de72de92c7",
   "metadata": {},
   "source": [
    "In Python, getter and setter methods are used to get and set the values of class attributes or properties, respectively."
   ]
  },
  {
   "cell_type": "code",
   "execution_count": 51,
   "id": "3df79d14-ab41-4ddb-b693-ae1dc5d87b5c",
   "metadata": {},
   "outputs": [],
   "source": [
    "class Person:\n",
    "    def __init__(self, name):\n",
    "        self.__name = name\n",
    "\n",
    "    def get_name(self):\n",
    "        return self.__name\n",
    "\n",
    "    def set_name(self, name):\n",
    "        self.__name = name\n"
   ]
  },
  {
   "cell_type": "code",
   "execution_count": 52,
   "id": "3c902015-80e3-406f-82ad-a806d371d810",
   "metadata": {},
   "outputs": [],
   "source": [
    "obj = Person('Siddhesh')"
   ]
  },
  {
   "cell_type": "code",
   "execution_count": 54,
   "id": "f613b180-975e-428d-b2c7-40c63274da59",
   "metadata": {},
   "outputs": [
    {
     "data": {
      "text/plain": [
       "'Siddhesh'"
      ]
     },
     "execution_count": 54,
     "metadata": {},
     "output_type": "execute_result"
    }
   ],
   "source": [
    "obj.get_name()"
   ]
  },
  {
   "cell_type": "code",
   "execution_count": 55,
   "id": "9e9740cb-3608-4002-a59d-8dd6e39dc168",
   "metadata": {},
   "outputs": [],
   "source": [
    "obj.set_name('Shreyash')"
   ]
  },
  {
   "cell_type": "code",
   "execution_count": 56,
   "id": "86349112-cc17-40f0-ae9a-ee8f47c55a6c",
   "metadata": {},
   "outputs": [
    {
     "data": {
      "text/plain": [
       "'Shreyash'"
      ]
     },
     "execution_count": 56,
     "metadata": {},
     "output_type": "execute_result"
    }
   ],
   "source": [
    "obj.get_name()"
   ]
  },
  {
   "cell_type": "markdown",
   "id": "6c98e74f-59ab-467e-b58d-1f72e84791fd",
   "metadata": {},
   "source": [
    "# Question 5"
   ]
  },
  {
   "cell_type": "markdown",
   "id": "efaa9206-61ab-42fc-bb17-8b45ef036479",
   "metadata": {},
   "source": [
    "Method overriding is a feature of object-oriented programming in which a child class provides a new implementation of a method that is already defined in its parent class. The new implementation in the child class overrides the original implementation in the parent class.\n",
    "\n",
    "In Python, method overriding is accomplished by defining a method with the same name in the child class as the one defined in the parent class. When an object of the child class is created, calls to the method with that name will use the new implementation defined in the child class instead of the one defined in the parent class."
   ]
  },
  {
   "cell_type": "code",
   "execution_count": 57,
   "id": "27cb4392-a8c1-4aac-bead-9d3c951a6cf0",
   "metadata": {},
   "outputs": [],
   "source": [
    "class Class1:\n",
    "    def PrintMethod(self):\n",
    "        print(\"This is class 1\")"
   ]
  },
  {
   "cell_type": "code",
   "execution_count": 58,
   "id": "975730f7-a5be-4596-b2bd-2133691d3699",
   "metadata": {},
   "outputs": [],
   "source": [
    "class Class2(Class1):\n",
    "    def PrintMethod(self):\n",
    "        print(\"This is class 2\")"
   ]
  },
  {
   "cell_type": "code",
   "execution_count": 61,
   "id": "42d60c83-74ad-4255-aeac-e3b9b32fd045",
   "metadata": {},
   "outputs": [],
   "source": [
    "obj1 = Class2()"
   ]
  },
  {
   "cell_type": "code",
   "execution_count": 62,
   "id": "da62ea33-1e5b-4372-8dd2-a4054cea4cf9",
   "metadata": {},
   "outputs": [
    {
     "name": "stdout",
     "output_type": "stream",
     "text": [
      "This is class 2\n"
     ]
    }
   ],
   "source": [
    "obj1.PrintMethod()"
   ]
  },
  {
   "cell_type": "code",
   "execution_count": null,
   "id": "61079278-91d6-44fa-a488-21c80e58b623",
   "metadata": {},
   "outputs": [],
   "source": []
  }
 ],
 "metadata": {
  "kernelspec": {
   "display_name": "Python 3 (ipykernel)",
   "language": "python",
   "name": "python3"
  },
  "language_info": {
   "codemirror_mode": {
    "name": "ipython",
    "version": 3
   },
   "file_extension": ".py",
   "mimetype": "text/x-python",
   "name": "python",
   "nbconvert_exporter": "python",
   "pygments_lexer": "ipython3",
   "version": "3.10.8"
  }
 },
 "nbformat": 4,
 "nbformat_minor": 5
}
