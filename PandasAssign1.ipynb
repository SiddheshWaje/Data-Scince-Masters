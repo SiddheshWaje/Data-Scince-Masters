{
 "cells": [
  {
   "cell_type": "markdown",
   "id": "ef554c61-8eea-4b92-b34e-c98afe0803ce",
   "metadata": {},
   "source": [
    "# Question 1"
   ]
  },
  {
   "cell_type": "code",
   "execution_count": 1,
   "id": "9dadca60-7e1b-4792-9d9c-e670c3925cac",
   "metadata": {},
   "outputs": [],
   "source": [
    "series = [4,8,15,16,23,42]\n"
   ]
  },
  {
   "cell_type": "code",
   "execution_count": 2,
   "id": "5d7c20b5-3fcd-45ac-9abf-34802e04f54d",
   "metadata": {},
   "outputs": [
    {
     "name": "stdout",
     "output_type": "stream",
     "text": [
      "0     4\n",
      "1     8\n",
      "2    15\n",
      "3    16\n",
      "4    23\n",
      "5    42\n",
      "dtype: int64\n"
     ]
    }
   ],
   "source": [
    "import pandas as pd\n",
    "ser = pd.Series(series)\n",
    "print(ser)"
   ]
  },
  {
   "cell_type": "markdown",
   "id": "71daf18e-6deb-4671-b667-75dc8236543a",
   "metadata": {},
   "source": [
    "# Question 2"
   ]
  },
  {
   "cell_type": "code",
   "execution_count": 4,
   "id": "2a3d6030-ca05-4bae-9e73-420bc15dd604",
   "metadata": {},
   "outputs": [
    {
     "name": "stdout",
     "output_type": "stream",
     "text": [
      "0    1\n",
      "1    2\n",
      "2    3\n",
      "3    4\n",
      "4    5\n",
      "5    6\n",
      "6    7\n",
      "7    8\n",
      "8    9\n",
      "9    0\n",
      "dtype: int64\n"
     ]
    }
   ],
   "source": [
    "lst = [1,2,3,4,5,6,7,8,9,0]\n",
    "ser = pd.Series(lst)\n",
    "print(ser)"
   ]
  },
  {
   "cell_type": "markdown",
   "id": "fc99794e-7d03-4c09-bd4a-90dc3bab9e02",
   "metadata": {},
   "source": [
    "# Question 3"
   ]
  },
  {
   "cell_type": "code",
   "execution_count": 6,
   "id": "1497eba6-6677-402e-b19d-49502279ab73",
   "metadata": {},
   "outputs": [
    {
     "name": "stdout",
     "output_type": "stream",
     "text": [
      "     Name  Age  gender\n",
      "0   ALice   25  Female\n",
      "1     Bob   30    Male\n",
      "2  Claire   27  Female\n"
     ]
    }
   ],
   "source": [
    "rows = [['ALice',25,'Female'],['Bob',30,'Male'],['Claire',27,'Female']]\n",
    "df = pd.DataFrame(rows,columns=['Name','Age','gender'])\n",
    "print(df)"
   ]
  },
  {
   "cell_type": "markdown",
   "id": "9c857767-ce5d-429b-8e56-70667c13cdab",
   "metadata": {},
   "source": [
    "# Question 4"
   ]
  },
  {
   "cell_type": "markdown",
   "id": "869ed0bd-c100-41fc-af2a-909b56ada234",
   "metadata": {},
   "source": [
    "In pandas, a DataFrame is a two-dimensional, size-mutable, and tabular data structure with labeled axes (rows and columns), whereas a Series is a one-dimensional labeled array capable of holding any data type.\n",
    "\n",
    "In simpler terms, a DataFrame is like a table with rows and columns, where each column can have a different data type, while a Series is like a single column of a DataFrame."
   ]
  },
  {
   "cell_type": "markdown",
   "id": "bdbb5e67-6d09-47d5-9241-5082dab1831b",
   "metadata": {},
   "source": [
    "# Question 5"
   ]
  },
  {
   "cell_type": "markdown",
   "id": "68bf31b5-37b5-4706-b5ae-b54a198f0a4e",
   "metadata": {},
   "source": [
    "Pandas is a powerful data manipulation library in Python, and it provides a wide range of functions for working with DataFrames. Here are some common functions you can use to manipulate data in a Pandas DataFrame:\n",
    "\n",
    "1. head() and tail(): These functions are used to display the top and bottom n rows of a DataFrame, respectively. You might use them to get a quick view of your data, to check that your data has been loaded correctly, or to verify that any data transformations you have applied have worked as expected.\n",
    "\n",
    "2. describe(): This function is used to display a summary of statistics for each column in a DataFrame, such as count, mean, standard deviation, minimum and maximum values, and quartiles. You might use it to get a quick overview of the distribution of your data, to check for any outliers, or to verify that any data transformations you have applied have had the desired effect.\n",
    "\n",
    "3. sort_values(): This function is used to sort a DataFrame by one or more columns. You might use it to order your data in a particular way, for example, to find the top N rows for a given column, or to sort the data by multiple columns.\n",
    "\n",
    "4. groupby(): This function is used to group a DataFrame by one or more columns and apply an aggregate function to each group. You might use it to calculate summary statistics for different subsets of your data, or to split your data into different groups for further analysis.\n",
    "\n",
    "5. pivot_table(): This function is used to create a pivot table, which is a way of summarizing and analyzing data in a DataFrame. You might use it to create a summary table of your data, or to compare different subsets of your data."
   ]
  },
  {
   "cell_type": "markdown",
   "id": "cbcb90ef-8c43-4909-a8f8-96b906428c0e",
   "metadata": {},
   "source": [
    "# Question 6"
   ]
  },
  {
   "cell_type": "markdown",
   "id": "366ec2bc-a540-433a-9c8f-1706618c31e7",
   "metadata": {},
   "source": [
    "## DataFrame and Series both are mutable in python while panel is not"
   ]
  },
  {
   "cell_type": "markdown",
   "id": "6a67ffb6-6cbb-4d9e-990d-cba1bf9080a6",
   "metadata": {},
   "source": [
    "# qUESTION 7"
   ]
  },
  {
   "cell_type": "code",
   "execution_count": 7,
   "id": "d05f43b8-f50f-4800-8980-bd6b2b01b302",
   "metadata": {},
   "outputs": [
    {
     "name": "stdout",
     "output_type": "stream",
     "text": [
      "   Column1 Column2\n",
      "0       10   apple\n",
      "1       20  banana\n",
      "2       30  cherry\n",
      "3       40  orange\n",
      "4       50    pear\n"
     ]
    }
   ],
   "source": [
    "column1 = pd.Series([10, 20, 30, 40, 50])\n",
    "\n",
    "# create the second Series with some sample data\n",
    "column2 = pd.Series(['apple', 'banana', 'cherry', 'orange', 'pear'])\n",
    "\n",
    "# create the DataFrame by combining the two Series\n",
    "df = pd.DataFrame({'Column1': column1, 'Column2': column2})\n",
    "\n",
    "# print the resulting DataFrame\n",
    "print(df)"
   ]
  },
  {
   "cell_type": "code",
   "execution_count": null,
   "id": "88b0e3d9-8589-402c-a63e-1e067cf6b908",
   "metadata": {},
   "outputs": [],
   "source": []
  }
 ],
 "metadata": {
  "kernelspec": {
   "display_name": "Python 3 (ipykernel)",
   "language": "python",
   "name": "python3"
  },
  "language_info": {
   "codemirror_mode": {
    "name": "ipython",
    "version": 3
   },
   "file_extension": ".py",
   "mimetype": "text/x-python",
   "name": "python",
   "nbconvert_exporter": "python",
   "pygments_lexer": "ipython3",
   "version": "3.10.8"
  }
 },
 "nbformat": 4,
 "nbformat_minor": 5
}
