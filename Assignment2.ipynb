{
 "cells": [
  {
   "cell_type": "markdown",
   "id": "9ac5fbb4-d42b-4260-b60c-68ac472809c9",
   "metadata": {},
   "source": [
    "Tuples have the given characteristics:\n",
    "1)They are indexed\n",
    "2)Tuples are ordered\n",
    "3)These are immutable\n",
    "4)They can contain duplicate items"
   ]
  },
  {
   "cell_type": "markdown",
   "id": "7e87b21c-94e7-4420-8751-ef2fafb22101",
   "metadata": {},
   "source": [
    "Question1"
   ]
  },
  {
   "cell_type": "code",
   "execution_count": 1,
   "id": "77b001d2-c60f-4dfc-ba31-98379eba23d8",
   "metadata": {},
   "outputs": [],
   "source": [
    "lst=[1,2,3,'Siddhesh']"
   ]
  },
  {
   "cell_type": "code",
   "execution_count": 2,
   "id": "6e069bd7-700a-450b-90c0-46c8aca73c17",
   "metadata": {},
   "outputs": [],
   "source": [
    "tup=(1,2,4,'Siddhesh')"
   ]
  },
  {
   "cell_type": "markdown",
   "id": "5d738c9e-2653-4cfc-ae2f-5d250907892d",
   "metadata": {},
   "source": [
    "Question2"
   ]
  },
  {
   "cell_type": "markdown",
   "id": "8e3b5f01-9631-49f6-8297-730daa7a8bbf",
   "metadata": {},
   "source": [
    "Two Tuple MEthods \n",
    "index()  :- gives the index at specified value\n",
    "count()  :- gives the count of specified value\n",
    "\n"
   ]
  },
  {
   "cell_type": "code",
   "execution_count": 3,
   "id": "dcb7588b-a4e1-471c-ae57-b38451acdc0f",
   "metadata": {},
   "outputs": [
    {
     "data": {
      "text/plain": [
       "1"
      ]
     },
     "execution_count": 3,
     "metadata": {},
     "output_type": "execute_result"
    }
   ],
   "source": [
    "tup.count(2)"
   ]
  },
  {
   "cell_type": "code",
   "execution_count": 5,
   "id": "0f6b2710-3079-43d1-b3ff-1682ccf8a50f",
   "metadata": {},
   "outputs": [
    {
     "data": {
      "text/plain": [
       "3"
      ]
     },
     "execution_count": 5,
     "metadata": {},
     "output_type": "execute_result"
    }
   ],
   "source": [
    "tup.index('Siddhesh')"
   ]
  },
  {
   "cell_type": "markdown",
   "id": "b6c51b2c-c72b-473e-9f24-d46e1f979a05",
   "metadata": {},
   "source": [
    "Question3"
   ]
  },
  {
   "cell_type": "raw",
   "id": "75cb7a18-81f0-4ad3-9c92-40d2cfebdc34",
   "metadata": {},
   "source": [
    "Tuples have only two inbuilt functions as compared to list beecause tuples are immutable and list is mutable"
   ]
  },
  {
   "cell_type": "code",
   "execution_count": 8,
   "id": "aa0fc21c-4472-42ae-91e3-b3767e3e1098",
   "metadata": {},
   "outputs": [
    {
     "data": {
      "text/plain": [
       "{1, 2, 3, 4}"
      ]
     },
     "execution_count": 8,
     "metadata": {},
     "output_type": "execute_result"
    }
   ],
   "source": [
    "# Sets do not have duplicate values\n",
    "List1=[1,1,1,2,1,3,1,4,2,1,2,2,2,3,2,4,3,1,3,2,3,3,3,4,4,1,4,1,4,2,4,3,4,4]\n",
    "set1=set(List1)\n",
    "set1"
   ]
  },
  {
   "cell_type": "markdown",
   "id": "546f26c8-82cb-4be5-8b81-a217b7f9346e",
   "metadata": {},
   "source": [
    "update() adds all missing elements to the set on which it is called whereas set. union() creates a new set"
   ]
  },
  {
   "cell_type": "code",
   "execution_count": null,
   "id": "23938367-5315-496e-b83f-589e85fcb37a",
   "metadata": {},
   "outputs": [],
   "source": []
  },
  {
   "cell_type": "code",
   "execution_count": 9,
   "id": "2d562699-2095-4c10-bbf3-8b17f36bc967",
   "metadata": {},
   "outputs": [],
   "source": [
    "set2={'a','b','c','d'}\n",
    "set1.update(set2)"
   ]
  },
  {
   "cell_type": "code",
   "execution_count": 10,
   "id": "5665d522-1405-46a5-841b-b726912ad46f",
   "metadata": {},
   "outputs": [
    {
     "data": {
      "text/plain": [
       "{1, 2, 3, 4, 'a', 'b', 'c', 'd'}"
      ]
     },
     "execution_count": 10,
     "metadata": {},
     "output_type": "execute_result"
    }
   ],
   "source": [
    "set1"
   ]
  },
  {
   "cell_type": "code",
   "execution_count": 13,
   "id": "d4f84255-9d30-4cd1-adae-8836436599db",
   "metadata": {},
   "outputs": [
    {
     "data": {
      "text/plain": [
       "{1, 2, 3, 4, 'Data Science', 'Pwskills', 'Siddhesh', 'a', 'b', 'c', 'd'}"
      ]
     },
     "execution_count": 13,
     "metadata": {},
     "output_type": "execute_result"
    }
   ],
   "source": [
    "set3={'Siddhesh','Pwskills','Data Science'}\n",
    "set1.union(set3)"
   ]
  },
  {
   "cell_type": "code",
   "execution_count": 14,
   "id": "9086b8bc-2f3c-43bc-952d-546b1bbeed1d",
   "metadata": {},
   "outputs": [
    {
     "data": {
      "text/plain": [
       "{1, 2, 3, 4, 'a', 'b', 'c', 'd'}"
      ]
     },
     "execution_count": 14,
     "metadata": {},
     "output_type": "execute_result"
    }
   ],
   "source": [
    "set1"
   ]
  },
  {
   "cell_type": "markdown",
   "id": "824cc17a-af3b-4942-b04e-b74e44123c55",
   "metadata": {},
   "source": [
    "Dictionaries are used to store data values in key:value pairs.\n",
    "\n"
   ]
  },
  {
   "cell_type": "code",
   "execution_count": 15,
   "id": "62852743-7065-4057-902d-7464f654e5de",
   "metadata": {},
   "outputs": [],
   "source": [
    "dict1={'name':'Siddhesh','course':{'Data science','Web dev'}}"
   ]
  },
  {
   "cell_type": "markdown",
   "id": "a8ee9687-2e7a-4519-ac62-64633411ee4c",
   "metadata": {},
   "source": [
    "dictionary is ordered data type as it is changable and does not allow duplicate values"
   ]
  },
  {
   "cell_type": "code",
   "execution_count": 18,
   "id": "8afda70b-fc92-4916-ae58-bf36c776b5c6",
   "metadata": {},
   "outputs": [],
   "source": [
    "## Yes we can create nested dictionary\n",
    "dict2={'Key':{'Key1':'Value','Key2':'Value2'}}"
   ]
  },
  {
   "cell_type": "code",
   "execution_count": 19,
   "id": "bd12c6c1-ab92-43c9-9eda-5e8c4b73215a",
   "metadata": {},
   "outputs": [
    {
     "data": {
      "text/plain": [
       "['Python', 'Machine Learning', 'Deep Learning']"
      ]
     },
     "execution_count": 19,
     "metadata": {},
     "output_type": "execute_result"
    }
   ],
   "source": [
    "dict2.setdefault('topics',['Python','Machine Learning','Deep Learning'])"
   ]
  },
  {
   "cell_type": "code",
   "execution_count": 20,
   "id": "f218d4d6-3465-48c2-bbf7-33ae1ff0a97a",
   "metadata": {},
   "outputs": [
    {
     "data": {
      "text/plain": [
       "{'Key': {'Key1': 'Value', 'Key2': 'Value2'},\n",
       " 'topics': ['Python', 'Machine Learning', 'Deep Learning']}"
      ]
     },
     "execution_count": 20,
     "metadata": {},
     "output_type": "execute_result"
    }
   ],
   "source": [
    "dict2"
   ]
  },
  {
   "cell_type": "markdown",
   "id": "78bf1520-7fed-4867-ba4b-3a4847d6d0e8",
   "metadata": {},
   "source": [
    "#View Objects"
   ]
  },
  {
   "cell_type": "code",
   "execution_count": 21,
   "id": "571bd2cd-0e2d-4d08-8a6b-ed307f7c3640",
   "metadata": {},
   "outputs": [
    {
     "data": {
      "text/plain": [
       "dict_keys(['Sport', 'Teams'])"
      ]
     },
     "execution_count": 21,
     "metadata": {},
     "output_type": "execute_result"
    }
   ],
   "source": [
    "dict1 = {'Sport': 'Cricket' , 'Teams': ['India', 'Australia', 'England', 'South Africa', 'Sri Lanka', 'New Zealand']}\n",
    "dict1.keys()"
   ]
  },
  {
   "cell_type": "code",
   "execution_count": 22,
   "id": "b19a5118-ba33-474f-b484-f9d53cf096d8",
   "metadata": {},
   "outputs": [
    {
     "data": {
      "text/plain": [
       "dict_values(['Cricket', ['India', 'Australia', 'England', 'South Africa', 'Sri Lanka', 'New Zealand']])"
      ]
     },
     "execution_count": 22,
     "metadata": {},
     "output_type": "execute_result"
    }
   ],
   "source": [
    "dict1.values()"
   ]
  },
  {
   "cell_type": "code",
   "execution_count": 23,
   "id": "2a18dbe1-22e3-4fb2-bafc-bff93621dc27",
   "metadata": {},
   "outputs": [
    {
     "data": {
      "text/plain": [
       "dict_items([('Sport', 'Cricket'), ('Teams', ['India', 'Australia', 'England', 'South Africa', 'Sri Lanka', 'New Zealand'])])"
      ]
     },
     "execution_count": 23,
     "metadata": {},
     "output_type": "execute_result"
    }
   ],
   "source": [
    "dict1.items()"
   ]
  },
  {
   "cell_type": "code",
   "execution_count": null,
   "id": "97181270-6f7b-47bb-9c16-3f09a2998ae6",
   "metadata": {},
   "outputs": [],
   "source": []
  }
 ],
 "metadata": {
  "kernelspec": {
   "display_name": "Python 3 (ipykernel)",
   "language": "python",
   "name": "python3"
  },
  "language_info": {
   "codemirror_mode": {
    "name": "ipython",
    "version": 3
   },
   "file_extension": ".py",
   "mimetype": "text/x-python",
   "name": "python",
   "nbconvert_exporter": "python",
   "pygments_lexer": "ipython3",
   "version": "3.10.8"
  }
 },
 "nbformat": 4,
 "nbformat_minor": 5
}
