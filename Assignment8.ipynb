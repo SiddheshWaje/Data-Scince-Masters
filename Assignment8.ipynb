{
 "cells": [
  {
   "cell_type": "markdown",
   "id": "30ede6d2-e1cf-4f84-92a1-0481dfb272d8",
   "metadata": {},
   "source": [
    "# Question 1\n"
   ]
  },
  {
   "cell_type": "markdown",
   "id": "34231183-ea04-4483-b177-7d5b3029b518",
   "metadata": {},
   "source": [
    "In Python, the open() function is used to open files. This function returns a file object which can then be used to read from or write to the file."
   ]
  },
  {
   "cell_type": "markdown",
   "id": "def9cb9e-71ae-4d95-9f68-399ed5e8cb8a",
   "metadata": {},
   "source": [
    "Modes Of Opening file\n",
    "1. 'r'       open for reading (default)\n",
    "2. 'w'       open for writing, truncating the file first\n",
    "3. 'x'       create a new file and open it for writing\n",
    "4. 'a'       open for writing, appending to the end of the file if it exists\n",
    "5. 'b'       binary mode\n",
    "6. 't'       text mode (default)\n",
    "7. '+'       open a disk file for updating (reading and writing)\n",
    "8. 'U'       universal newline mode (deprecated)"
   ]
  },
  {
   "cell_type": "markdown",
   "id": "f8eba5bc-df2c-4869-93d0-ddbb5f1781e5",
   "metadata": {},
   "source": [
    "# Question 2"
   ]
  },
  {
   "cell_type": "markdown",
   "id": "f3126cf0-2988-4f52-af19-6a48586de20b",
   "metadata": {},
   "source": [
    "close() is used to close a file \n",
    "It is important to close a file in Python (and any other programming language) because files are a limited resource in a computer system, and leaving a file open can cause problems. When you open a file, the operating system allocates certain resources to the file, such as a file descriptor or a buffer."
   ]
  },
  {
   "cell_type": "markdown",
   "id": "e2384df8-1beb-4172-9187-31808a51c8d4",
   "metadata": {},
   "source": [
    "# Question 3"
   ]
  },
  {
   "cell_type": "code",
   "execution_count": 5,
   "id": "7c0f2b4b-b116-4af9-ad8c-7302734eea14",
   "metadata": {},
   "outputs": [],
   "source": [
    "file = open('assignment.txt','a')"
   ]
  },
  {
   "cell_type": "code",
   "execution_count": 6,
   "id": "43bfa7fe-3485-4a32-8794-559976951c4f",
   "metadata": {},
   "outputs": [
    {
     "data": {
      "text/plain": [
       "34"
      ]
     },
     "execution_count": 6,
     "metadata": {},
     "output_type": "execute_result"
    }
   ],
   "source": [
    "file.write(\"I want to becokme a Data Scientist\")"
   ]
  },
  {
   "cell_type": "code",
   "execution_count": 7,
   "id": "3a2e384b-69f7-4efb-a0a9-94bbc2bc5990",
   "metadata": {},
   "outputs": [],
   "source": [
    "file.close()"
   ]
  },
  {
   "cell_type": "markdown",
   "id": "c5e2fe30-609e-474d-8f15-55af6bb2bf6f",
   "metadata": {},
   "source": [
    "                    \n",
    "# Question 4"
   ]
  },
  {
   "cell_type": "markdown",
   "id": "5c5cc87a-9a11-4be8-9029-86fefad1b2f8",
   "metadata": {},
   "source": [
    "read(): This method reads the entire contents of a file and returns it as a single string. It takes an optional argument that specifies the number of bytes to read. If no argument is specified, the entire file is read."
   ]
  },
  {
   "cell_type": "code",
   "execution_count": 8,
   "id": "01b73683-f4e7-4775-8e31-b2b5d8f70e47",
   "metadata": {},
   "outputs": [],
   "source": [
    "file = open(\"assignment.txt\",'r')"
   ]
  },
  {
   "cell_type": "code",
   "execution_count": 9,
   "id": "84b75097-c701-4d21-a4fe-656cfc7c3b77",
   "metadata": {},
   "outputs": [
    {
     "data": {
      "text/plain": [
       "'I want to becokme a Data ScientistI want to becokme a Data ScientistI want to becokme a Data Scientist'"
      ]
     },
     "execution_count": 9,
     "metadata": {},
     "output_type": "execute_result"
    }
   ],
   "source": [
    "file.read()"
   ]
  },
  {
   "cell_type": "code",
   "execution_count": 12,
   "id": "452a40c2-10c4-4d3a-99a0-78b716ecd72d",
   "metadata": {},
   "outputs": [],
   "source": [
    "file.close()"
   ]
  },
  {
   "cell_type": "markdown",
   "id": "da1e5e10-1d8e-4640-bd9e-37d406c827f4",
   "metadata": {},
   "source": [
    "readline(): This method reads a single line from a file and returns it as a string. If the end of the file is reached, an empty string is returned."
   ]
  },
  {
   "cell_type": "code",
   "execution_count": 13,
   "id": "d4739f5c-9bb9-4ae5-a0d7-393a575ca5b6",
   "metadata": {},
   "outputs": [],
   "source": [
    "file = open('assignment.txt','r')"
   ]
  },
  {
   "cell_type": "code",
   "execution_count": 14,
   "id": "fec55b24-0878-440a-b54a-641aa9104aae",
   "metadata": {},
   "outputs": [
    {
     "name": "stdout",
     "output_type": "stream",
     "text": [
      "I want to becokme a Data ScientistI want to becokme a Data ScientistI want to becokme a Data Scientist\n"
     ]
    }
   ],
   "source": [
    "line = file.readline()\n",
    "while line:\n",
    "    print(line)\n",
    "    line = file.readline()"
   ]
  },
  {
   "cell_type": "code",
   "execution_count": 15,
   "id": "c7d62557-281c-4a04-acf6-8959f5ee2f36",
   "metadata": {},
   "outputs": [],
   "source": [
    "file.close()"
   ]
  },
  {
   "cell_type": "markdown",
   "id": "dcad2a22-1872-4756-b4eb-8802f9663a18",
   "metadata": {},
   "source": [
    "readlines(): This method reads all the lines of a file and returns them as a list of strings. Each string represents a single line from the file, and includes the newline character at the end of the line."
   ]
  },
  {
   "cell_type": "code",
   "execution_count": 16,
   "id": "987be914-d337-4e1d-ba92-34ba24715919",
   "metadata": {},
   "outputs": [],
   "source": [
    "file = open('assignment.txt','r')"
   ]
  },
  {
   "cell_type": "code",
   "execution_count": 18,
   "id": "bea62834-b5ce-4767-bb51-14c923cc462d",
   "metadata": {},
   "outputs": [
    {
     "name": "stdout",
     "output_type": "stream",
     "text": [
      "I want to becokme a Data ScientistI want to becokme a Data ScientistI want to becokme a Data Scientist\n"
     ]
    }
   ],
   "source": [
    "lst=file.readlines()\n",
    "for i in lst:\n",
    "    print(i)"
   ]
  },
  {
   "cell_type": "markdown",
   "id": "8754e30d-b78f-4d83-b3bd-f84b5ea3e8de",
   "metadata": {},
   "source": [
    "# Question 5"
   ]
  },
  {
   "cell_type": "markdown",
   "id": "747d5eae-2114-4b42-9a8b-b3b254ec126b",
   "metadata": {},
   "source": [
    "In Python, the with statement is used with open() to provide a convenient way to handle files. The with statement creates a context in which a resource (in this case, a file) is opened and automatically closed when the context is exited, whether normally or due to an exception."
   ]
  },
  {
   "cell_type": "markdown",
   "id": "ffd2872f-6f0f-4347-8887-bd71d80bb4ca",
   "metadata": {},
   "source": [
    "# Question 6"
   ]
  },
  {
   "cell_type": "markdown",
   "id": "4dba439c-5861-4285-9ac8-e2e809eb292f",
   "metadata": {},
   "source": [
    "## write(): This method writes a string to a file. If the file does not exist, it is created. If it already exists, the new data is appended to the end of the file. The write() method returns the number of characters written"
   ]
  },
  {
   "cell_type": "code",
   "execution_count": 19,
   "id": "e6a763f3-8ced-4100-8d10-8933d71b0639",
   "metadata": {},
   "outputs": [],
   "source": [
    "with open('assignment.txt','w') as file:\n",
    "    file.write('\\n Siddhesh Waje')"
   ]
  },
  {
   "cell_type": "markdown",
   "id": "66cbee68-1e2b-4257-b1a5-49bfc6cc4224",
   "metadata": {},
   "source": [
    "### writelines(): This method writes a list of strings to a file. Each string represents a single line of text. The lines are written one after the other, with no newline characters added between them. If the file does not exist, it is created. If it already exists, the new data is appended to the end of the file."
   ]
  },
  {
   "cell_type": "code",
   "execution_count": 21,
   "id": "b9df35fa-009e-4ccc-96fc-c6db2f7938d3",
   "metadata": {},
   "outputs": [],
   "source": [
    "with open('assignment.txt','w') as file:\n",
    "    line = ['Data',\"Science\"]\n",
    "    file.writelines(line)"
   ]
  },
  {
   "cell_type": "code",
   "execution_count": null,
   "id": "655371d4-3f5f-41f6-a69f-e445acf6b8d1",
   "metadata": {},
   "outputs": [],
   "source": []
  }
 ],
 "metadata": {
  "kernelspec": {
   "display_name": "Python 3 (ipykernel)",
   "language": "python",
   "name": "python3"
  },
  "language_info": {
   "codemirror_mode": {
    "name": "ipython",
    "version": 3
   },
   "file_extension": ".py",
   "mimetype": "text/x-python",
   "name": "python",
   "nbconvert_exporter": "python",
   "pygments_lexer": "ipython3",
   "version": "3.10.8"
  }
 },
 "nbformat": 4,
 "nbformat_minor": 5
}
