{
 "cells": [
  {
   "cell_type": "markdown",
   "id": "87201992-10cc-4b8d-9eb9-e22db02421b3",
   "metadata": {},
   "source": [
    "# def is the keyword used to define function"
   ]
  },
  {
   "cell_type": "code",
   "execution_count": 8,
   "id": "538751fa-e5a3-4369-8de2-3173a13bee16",
   "metadata": {},
   "outputs": [],
   "source": [
    "def oddNum():\n",
    "    lst=[]\n",
    "    for i in range(1,25):\n",
    "        if i%2!=0:\n",
    "             lst.append(i)\n",
    "\n",
    "    return lst"
   ]
  },
  {
   "cell_type": "code",
   "execution_count": 9,
   "id": "9fa46a46-080a-4170-ba42-c1f4c0d25191",
   "metadata": {},
   "outputs": [
    {
     "data": {
      "text/plain": [
       "[1, 3, 5, 7, 9, 11, 13, 15, 17, 19, 21, 23]"
      ]
     },
     "execution_count": 9,
     "metadata": {},
     "output_type": "execute_result"
    }
   ],
   "source": [
    "oddNum()"
   ]
  },
  {
   "cell_type": "markdown",
   "id": "c775dbd4-2419-4860-9af5-646749edbe28",
   "metadata": {},
   "source": [
    "# *args and **kwargs is used when we are unsure about the arguments **kwargs is used when argument is dictionary"
   ]
  },
  {
   "cell_type": "code",
   "execution_count": 10,
   "id": "2c2196e4-6e55-4c9e-8b78-ad22a1f0d085",
   "metadata": {},
   "outputs": [],
   "source": [
    "def summation(*args):\n",
    "    sum1=0\n",
    "    for i in args:\n",
    "        sum1 = sum1 +i\n",
    "    return sum1"
   ]
  },
  {
   "cell_type": "code",
   "execution_count": 11,
   "id": "6d9aeadd-9e7b-4efc-ab44-d5be8bf174f9",
   "metadata": {},
   "outputs": [
    {
     "data": {
      "text/plain": [
       "19"
      ]
     },
     "execution_count": 11,
     "metadata": {},
     "output_type": "execute_result"
    }
   ],
   "source": [
    "summation(1,2,3,4,4,5)"
   ]
  },
  {
   "cell_type": "code",
   "execution_count": 17,
   "id": "bd81621f-ebe6-4fe7-89c1-9c2ce53a81f9",
   "metadata": {},
   "outputs": [],
   "source": [
    "def dictcheck(**kwargs):\n",
    "    return kwargs.values()"
   ]
  },
  {
   "cell_type": "code",
   "execution_count": 24,
   "id": "9bc666b3-231a-49ed-9073-30fe6b4aea32",
   "metadata": {},
   "outputs": [
    {
     "data": {
      "text/plain": [
       "dict_values(['Siddhesh', 'Data Science MAsters'])"
      ]
     },
     "execution_count": 24,
     "metadata": {},
     "output_type": "execute_result"
    }
   ],
   "source": [
    "dictcheck(name=\"Siddhesh\",course='Data Science MAsters')"
   ]
  },
  {
   "cell_type": "markdown",
   "id": "dd5e6d5c-fa1a-4505-8d23-296c286f77b8",
   "metadata": {},
   "source": [
    "# An iterator is an object that contains a countable number of values.\n",
    "\n"
   ]
  },
  {
   "cell_type": "markdown",
   "id": "c960b949-c22d-45cf-85e7-002cc0fed694",
   "metadata": {},
   "source": [
    "iter() and next() methods are used to inttialise and use iterator"
   ]
  },
  {
   "cell_type": "code",
   "execution_count": 25,
   "id": "d09d923d-ac18-472a-8d6f-cd2951c79278",
   "metadata": {},
   "outputs": [],
   "source": [
    "dict1={'name':'Siddesh','course':'Data science masters','mentor':'Krish'}"
   ]
  },
  {
   "cell_type": "code",
   "execution_count": 26,
   "id": "24a261f1-ba81-40cf-b6c9-f8a1c95eecb9",
   "metadata": {},
   "outputs": [],
   "source": [
    "element=iter(dict1)"
   ]
  },
  {
   "cell_type": "code",
   "execution_count": 27,
   "id": "90207892-ba1d-4703-a742-3a6a71395e5d",
   "metadata": {},
   "outputs": [
    {
     "name": "stdout",
     "output_type": "stream",
     "text": [
      "name\n"
     ]
    }
   ],
   "source": [
    "print(next(element))"
   ]
  },
  {
   "cell_type": "code",
   "execution_count": 28,
   "id": "780401db-0c63-4649-acdc-19c20d1c0c0b",
   "metadata": {},
   "outputs": [
    {
     "name": "stdout",
     "output_type": "stream",
     "text": [
      "course\n",
      "mentor\n"
     ]
    }
   ],
   "source": [
    "print(next(element))\n",
    "print(next(element))"
   ]
  },
  {
   "cell_type": "markdown",
   "id": "e3db7e67-3594-4614-a4ad-27c1d216779e",
   "metadata": {},
   "source": [
    "# Generator Function"
   ]
  },
  {
   "cell_type": "markdown",
   "id": "e520b7f2-fd67-4ff2-a703-1a599a88c34c",
   "metadata": {},
   "source": [
    "A generator-function is defined like a normal function, but whenever it needs to generate a value, it does so with the yield keyword rather than return. If the body of a def contains yield, the function automatically becomes a generator function."
   ]
  },
  {
   "cell_type": "code",
   "execution_count": 29,
   "id": "3adbe76f-bfe2-46d2-9e0f-c6f84c75a2fb",
   "metadata": {},
   "outputs": [],
   "source": [
    "lst=[1,2,3,4,5,6,7,8,9]\n"
   ]
  },
  {
   "cell_type": "code",
   "execution_count": 30,
   "id": "54a36838-99d5-47aa-8341-e0d3e4e2a0d6",
   "metadata": {},
   "outputs": [],
   "source": [
    "def genOdd(lst):\n",
    "    for i in lst:\n",
    "        if i%2!=0:\n",
    "            yield i"
   ]
  },
  {
   "cell_type": "code",
   "execution_count": 31,
   "id": "3cdebb60-f2a4-475b-8942-3088000a02b1",
   "metadata": {},
   "outputs": [
    {
     "data": {
      "text/plain": [
       "<generator object genOdd at 0x7fea33352880>"
      ]
     },
     "execution_count": 31,
     "metadata": {},
     "output_type": "execute_result"
    }
   ],
   "source": [
    "genOdd(lst)"
   ]
  },
  {
   "cell_type": "code",
   "execution_count": 33,
   "id": "46524440-5bed-4d37-a00a-ef42498a8ce6",
   "metadata": {},
   "outputs": [
    {
     "data": {
      "text/plain": [
       "[1, 3, 5, 7, 9]"
      ]
     },
     "execution_count": 33,
     "metadata": {},
     "output_type": "execute_result"
    }
   ],
   "source": [
    "list(genOdd(lst))"
   ]
  },
  {
   "cell_type": "code",
   "execution_count": 55,
   "id": "d97324df-e07e-4532-831b-9c3ad53de300",
   "metadata": {},
   "outputs": [],
   "source": [
    "def prime1000():\n",
    "    primeList=[]\n",
    "    \n",
    "    for i in range(2,1000):\n",
    "        flag=1\n",
    "        for j in range(2,i-1):\n",
    "            if i % j == 0:\n",
    "                flag=0\n",
    "                break\n",
    "        if flag:\n",
    "            primeList.append(i)\n",
    "    return primeList"
   ]
  },
  {
   "cell_type": "code",
   "execution_count": 57,
   "id": "3fd5f002-187c-4bcd-96a0-1d3a777d778c",
   "metadata": {},
   "outputs": [
    {
     "data": {
      "text/plain": [
       "[2,\n",
       " 3,\n",
       " 5,\n",
       " 7,\n",
       " 11,\n",
       " 13,\n",
       " 17,\n",
       " 19,\n",
       " 23,\n",
       " 29,\n",
       " 31,\n",
       " 37,\n",
       " 41,\n",
       " 43,\n",
       " 47,\n",
       " 53,\n",
       " 59,\n",
       " 61,\n",
       " 67,\n",
       " 71,\n",
       " 73,\n",
       " 79,\n",
       " 83,\n",
       " 89,\n",
       " 97,\n",
       " 101,\n",
       " 103,\n",
       " 107,\n",
       " 109,\n",
       " 113,\n",
       " 127,\n",
       " 131,\n",
       " 137,\n",
       " 139,\n",
       " 149,\n",
       " 151,\n",
       " 157,\n",
       " 163,\n",
       " 167,\n",
       " 173,\n",
       " 179,\n",
       " 181,\n",
       " 191,\n",
       " 193,\n",
       " 197,\n",
       " 199,\n",
       " 211,\n",
       " 223,\n",
       " 227,\n",
       " 229,\n",
       " 233,\n",
       " 239,\n",
       " 241,\n",
       " 251,\n",
       " 257,\n",
       " 263,\n",
       " 269,\n",
       " 271,\n",
       " 277,\n",
       " 281,\n",
       " 283,\n",
       " 293,\n",
       " 307,\n",
       " 311,\n",
       " 313,\n",
       " 317,\n",
       " 331,\n",
       " 337,\n",
       " 347,\n",
       " 349,\n",
       " 353,\n",
       " 359,\n",
       " 367,\n",
       " 373,\n",
       " 379,\n",
       " 383,\n",
       " 389,\n",
       " 397,\n",
       " 401,\n",
       " 409,\n",
       " 419,\n",
       " 421,\n",
       " 431,\n",
       " 433,\n",
       " 439,\n",
       " 443,\n",
       " 449,\n",
       " 457,\n",
       " 461,\n",
       " 463,\n",
       " 467,\n",
       " 479,\n",
       " 487,\n",
       " 491,\n",
       " 499,\n",
       " 503,\n",
       " 509,\n",
       " 521,\n",
       " 523,\n",
       " 541,\n",
       " 547,\n",
       " 557,\n",
       " 563,\n",
       " 569,\n",
       " 571,\n",
       " 577,\n",
       " 587,\n",
       " 593,\n",
       " 599,\n",
       " 601,\n",
       " 607,\n",
       " 613,\n",
       " 617,\n",
       " 619,\n",
       " 631,\n",
       " 641,\n",
       " 643,\n",
       " 647,\n",
       " 653,\n",
       " 659,\n",
       " 661,\n",
       " 673,\n",
       " 677,\n",
       " 683,\n",
       " 691,\n",
       " 701,\n",
       " 709,\n",
       " 719,\n",
       " 727,\n",
       " 733,\n",
       " 739,\n",
       " 743,\n",
       " 751,\n",
       " 757,\n",
       " 761,\n",
       " 769,\n",
       " 773,\n",
       " 787,\n",
       " 797,\n",
       " 809,\n",
       " 811,\n",
       " 821,\n",
       " 823,\n",
       " 827,\n",
       " 829,\n",
       " 839,\n",
       " 853,\n",
       " 857,\n",
       " 859,\n",
       " 863,\n",
       " 877,\n",
       " 881,\n",
       " 883,\n",
       " 887,\n",
       " 907,\n",
       " 911,\n",
       " 919,\n",
       " 929,\n",
       " 937,\n",
       " 941,\n",
       " 947,\n",
       " 953,\n",
       " 967,\n",
       " 971,\n",
       " 977,\n",
       " 983,\n",
       " 991,\n",
       " 997]"
      ]
     },
     "execution_count": 57,
     "metadata": {},
     "output_type": "execute_result"
    }
   ],
   "source": [
    "prime1000()"
   ]
  },
  {
   "cell_type": "code",
   "execution_count": 58,
   "id": "ed5dcf8d-a8fa-45d7-a88f-ad51a6fb8a91",
   "metadata": {},
   "outputs": [],
   "source": [
    "element=iter(prime1000())"
   ]
  },
  {
   "cell_type": "code",
   "execution_count": 59,
   "id": "ac3f7114-b039-4471-826c-945d70c8716d",
   "metadata": {},
   "outputs": [],
   "source": [
    "def prime20(element):\n",
    "    for i in range(20):\n",
    "        print(next(element),end=' ')"
   ]
  },
  {
   "cell_type": "code",
   "execution_count": 60,
   "id": "83391cf5-6f04-4490-8e2e-44af80f605de",
   "metadata": {},
   "outputs": [
    {
     "name": "stdout",
     "output_type": "stream",
     "text": [
      "2 3 5 7 11 13 17 19 23 29 31 37 41 43 47 53 59 61 67 71 "
     ]
    }
   ],
   "source": [
    "prime20(element)"
   ]
  },
  {
   "cell_type": "code",
   "execution_count": null,
   "id": "9131bf67-f073-41ae-b69c-a269cf66465e",
   "metadata": {},
   "outputs": [],
   "source": []
  }
 ],
 "metadata": {
  "kernelspec": {
   "display_name": "Python 3 (ipykernel)",
   "language": "python",
   "name": "python3"
  },
  "language_info": {
   "codemirror_mode": {
    "name": "ipython",
    "version": 3
   },
   "file_extension": ".py",
   "mimetype": "text/x-python",
   "name": "python",
   "nbconvert_exporter": "python",
   "pygments_lexer": "ipython3",
   "version": "3.10.8"
  }
 },
 "nbformat": 4,
 "nbformat_minor": 5
}
