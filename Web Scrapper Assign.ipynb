{
 "cells": [
  {
   "cell_type": "markdown",
   "id": "55d827c2-9c30-4927-afde-5b0ec42236e8",
   "metadata": {},
   "source": [
    "# Question 1\n"
   ]
  },
  {
   "cell_type": "markdown",
   "id": "8c956bfe-75dc-4a9f-8db2-2ef6f4cf2c76",
   "metadata": {},
   "source": [
    "## Web scraping is the process of using bots to extract content and data from a website.\n",
    "\n",
    "Unlike screen scraping, which only copies pixels displayed onscreen, web scraping extracts underlying HTML code and, with it, data stored in a database. The scraper can then replicate entire website content elsewhere."
   ]
  },
  {
   "cell_type": "markdown",
   "id": "ac282325-686a-44a5-b44e-9ff0e6f93a2c",
   "metadata": {},
   "source": [
    "1. Web scraping is used in a variety of digital businesses that rely on data harvesting. Legitimate use cases include:\n",
    "\n",
    "2. Search engine bots crawling a site, analyzing its content and then ranking it.\n",
    "3. Price comparison sites deploying bots to auto-fetch prices and product descriptions for allied seller websites.\n",
    "4. Market research companies using scrapers to pull data from forums and social media (e.g., for sentiment analysis)."
   ]
  },
  {
   "cell_type": "markdown",
   "id": "a0d4351f-014e-498c-8bb6-37757862abfe",
   "metadata": {},
   "source": [
    "# Question 2"
   ]
  },
  {
   "cell_type": "markdown",
   "id": "5a99c9cb-2bff-472f-b341-77c8975aa38f",
   "metadata": {},
   "source": [
    "Different methods of wen scraping are \n",
    "1. Manual\n",
    "1. Manually copying the data\n",
    "2. Automated\n",
    "1. HTML Parsing\n",
    "2. DOM parsing\n",
    "3. Vertical Aggression"
   ]
  },
  {
   "cell_type": "markdown",
   "id": "52cb2932-3b8b-43c7-be0d-78239e0553dc",
   "metadata": {},
   "source": [
    "# Question 3"
   ]
  },
  {
   "cell_type": "markdown",
   "id": "c5907d39-b180-4970-b7c1-0dfb7746e883",
   "metadata": {},
   "source": [
    "Beautiful Soup is a Python package for parsing HTML and XML documents (including having malformed markup, i.e. non-closed tags, so named after tag soup). It creates a parse tree for parsed pages that can be used to extract data from HTML, which is useful for web scraping."
   ]
  },
  {
   "cell_type": "markdown",
   "id": "90a6e957-b7f2-4590-9215-aece8ef369c4",
   "metadata": {},
   "source": [
    "# Question 4"
   ]
  },
  {
   "cell_type": "markdown",
   "id": "6ab0157d-7855-4e75-9453-b6229319e10c",
   "metadata": {},
   "source": [
    "### Flask is used to used in this project to create API so that our website can input and python can process that input to do data scrapping"
   ]
  },
  {
   "cell_type": "markdown",
   "id": "580ef719-a7b5-4c71-91ae-9a5c3c1476aa",
   "metadata": {},
   "source": [
    "# Question 5"
   ]
  },
  {
   "cell_type": "markdown",
   "id": "c562ab10-74ee-4438-8836-54c961b6dd01",
   "metadata": {},
   "source": [
    "## Services used here are \n",
    "1. Code Pipeline \n",
    "2. Bean Stalk"
   ]
  },
  {
   "cell_type": "markdown",
   "id": "f5cf9aaf-fd0b-4003-ade1-63ad3646cc39",
   "metadata": {},
   "source": [
    "1. Code Pipeline\n",
    "AWS CodePipeline is a continuous delivery service you can use to model, visualize, and automate the steps required to release your software. You can quickly model and configure the different stages of a software release process. CodePipeline automates the steps required to release your software changes continuously."
   ]
  },
  {
   "cell_type": "markdown",
   "id": "1edef615-d5a9-4678-89ae-5b61bfd58fa8",
   "metadata": {},
   "source": [
    "2. BeanStalk \n",
    "Elastic Beanstalk is a service for deploying and scaling web applications and services. Upload your code and Elastic Beanstalk automatically handles the deployment—from capacity provisioning, load balancing, and auto scaling to application health monitoring."
   ]
  },
  {
   "cell_type": "code",
   "execution_count": null,
   "id": "1721058f-89e3-4a92-9ba0-e3b57fcc5c64",
   "metadata": {},
   "outputs": [],
   "source": []
  }
 ],
 "metadata": {
  "kernelspec": {
   "display_name": "Python 3 (ipykernel)",
   "language": "python",
   "name": "python3"
  },
  "language_info": {
   "codemirror_mode": {
    "name": "ipython",
    "version": 3
   },
   "file_extension": ".py",
   "mimetype": "text/x-python",
   "name": "python",
   "nbconvert_exporter": "python",
   "pygments_lexer": "ipython3",
   "version": "3.10.8"
  }
 },
 "nbformat": 4,
 "nbformat_minor": 5
}
