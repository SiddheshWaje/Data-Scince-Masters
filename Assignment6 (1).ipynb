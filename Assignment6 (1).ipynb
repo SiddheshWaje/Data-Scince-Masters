{
 "cells": [
  {
   "cell_type": "markdown",
   "id": "73084c63-f73c-4ad5-bd1e-b8c9a523af4c",
   "metadata": {},
   "source": [
    "# Question 1"
   ]
  },
  {
   "cell_type": "code",
   "execution_count": 49,
   "id": "401cdb63-598e-4713-9b59-94f122d140a1",
   "metadata": {},
   "outputs": [],
   "source": [
    "list1 = [1,2,3,4, [44,55,66, True], False, (34,56,78,89,34), {1,2,3,3,2,1}, {1:34, \"key2\": [55, 67, 78, 89], 4: (45,\n",
    "22, 61, 34)}, [56, 'data science'], 'Machine Learning']\n"
   ]
  },
  {
   "cell_type": "code",
   "execution_count": 50,
   "id": "3bf4be09-33b3-4d1d-b747-5c60e79cee20",
   "metadata": {},
   "outputs": [],
   "source": [
    "def flatList(l1):\n",
    "    l2=[]\n",
    "    prod = 1\n",
    "    for i in l1:\n",
    "        if type(i)==list or type(i)==tuple or type(i)==set or type(i)==dict:\n",
    "            if type(i)==dict:\n",
    "                    for k in i:\n",
    "                        l2.append(k)\n",
    "                        if type(i[k])==list or type(i[k])==tuple:\n",
    "                            for l in i[k]:\n",
    "                                l2.append(l)\n",
    "                        else:\n",
    "                            l\n",
    "            else:          \n",
    "                for j in i:\n",
    "                    l2.append(j)\n",
    "        else:\n",
    "            l2.append(i)\n",
    "    for m in l2:\n",
    "        if type(m)==int :\n",
    "            prod = prod * m\n",
    "    return l2,prod"
   ]
  },
  {
   "cell_type": "code",
   "execution_count": 51,
   "id": "a0a7ae6f-35be-4b0e-8c65-e2c11df9cef7",
   "metadata": {},
   "outputs": [
    {
     "data": {
      "text/plain": [
       "([1,\n",
       "  2,\n",
       "  3,\n",
       "  4,\n",
       "  44,\n",
       "  55,\n",
       "  66,\n",
       "  True,\n",
       "  False,\n",
       "  34,\n",
       "  56,\n",
       "  78,\n",
       "  89,\n",
       "  34,\n",
       "  1,\n",
       "  2,\n",
       "  3,\n",
       "  1,\n",
       "  'key2',\n",
       "  55,\n",
       "  67,\n",
       "  78,\n",
       "  89,\n",
       "  4,\n",
       "  45,\n",
       "  22,\n",
       "  61,\n",
       "  34,\n",
       "  56,\n",
       "  'data science',\n",
       "  'Machine Learning'],\n",
       " 121609171734914278789230624768000)"
      ]
     },
     "execution_count": 51,
     "metadata": {},
     "output_type": "execute_result"
    }
   ],
   "source": [
    "flatList(list1)"
   ]
  },
  {
   "cell_type": "markdown",
   "id": "76d0c702-8bc9-4274-8ec9-9d6224918934",
   "metadata": {},
   "source": [
    "# Question 2"
   ]
  },
  {
   "cell_type": "code",
   "execution_count": 52,
   "id": "16020c3d-da46-4a24-be5b-4f5d51fc2656",
   "metadata": {},
   "outputs": [],
   "source": [
    "def encrypt(message):\n",
    "    encrypted_message = \"\"\n",
    "    for char in message:\n",
    "        if char.isalpha():\n",
    "            encrypted_char = chr(122 - ord(char.lower()) + 97)\n",
    "            encrypted_message += encrypted_char\n",
    "        elif char.isspace():\n",
    "            encrypted_message += \"$\"\n",
    "        else:\n",
    "            encrypted_message += char\n",
    "    return encrypted_message"
   ]
  },
  {
   "cell_type": "code",
   "execution_count": 53,
   "id": "4e3e51e6-6c1b-42f7-b284-e0f8f34cdf77",
   "metadata": {},
   "outputs": [],
   "source": [
    "Input=\"I want to become a Data Scientist\""
   ]
  },
  {
   "cell_type": "code",
   "execution_count": 54,
   "id": "81477e89-f12e-49a0-919f-5f16a2864d70",
   "metadata": {},
   "outputs": [
    {
     "data": {
      "text/plain": [
       "'r$dzmg$gl$yvxlnv$z$wzgz$hxrvmgrhg'"
      ]
     },
     "execution_count": 54,
     "metadata": {},
     "output_type": "execute_result"
    }
   ],
   "source": [
    "encrypt(Input)"
   ]
  },
  {
   "cell_type": "code",
   "execution_count": 55,
   "id": "e580c809-172a-45d5-bade-680dad8b1353",
   "metadata": {},
   "outputs": [
    {
     "data": {
      "text/plain": [
       "False"
      ]
     },
     "execution_count": 55,
     "metadata": {},
     "output_type": "execute_result"
    }
   ],
   "source": [
    "689118639831180913138973540352000<121609171734914278789230624768000"
   ]
  },
  {
   "cell_type": "code",
   "execution_count": null,
   "id": "5d829528-6a83-4dd6-80f2-d6703c11fe82",
   "metadata": {},
   "outputs": [],
   "source": []
  }
 ],
 "metadata": {
  "kernelspec": {
   "display_name": "Python 3 (ipykernel)",
   "language": "python",
   "name": "python3"
  },
  "language_info": {
   "codemirror_mode": {
    "name": "ipython",
    "version": 3
   },
   "file_extension": ".py",
   "mimetype": "text/x-python",
   "name": "python",
   "nbconvert_exporter": "python",
   "pygments_lexer": "ipython3",
   "version": "3.10.8"
  }
 },
 "nbformat": 4,
 "nbformat_minor": 5
}
