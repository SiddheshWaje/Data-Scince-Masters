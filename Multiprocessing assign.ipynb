{
 "cells": [
  {
   "cell_type": "markdown",
   "id": "a87160b6-fd8a-4c6d-a6d9-1e7471f23f6e",
   "metadata": {},
   "source": [
    "# Question 1"
   ]
  },
  {
   "cell_type": "markdown",
   "id": "7b0da39e-4019-4e87-93c0-ead41761e790",
   "metadata": {},
   "source": [
    "## Multiprocessing in Python is a built-in package that allows the system to run multiple processes simultaneously. It will enable the breaking of applications into smaller threads that can run independently. The operating system can then allocate all these threads or processes to the processor to run them parallelly, thus improving the overall performance and efficiency."
   ]
  },
  {
   "cell_type": "markdown",
   "id": "2942d684-3dd7-443c-a2ca-822ece26dd10",
   "metadata": {},
   "source": [
    "# Question 2\n"
   ]
  },
  {
   "cell_type": "markdown",
   "id": "1ea765be-c19d-47a9-ae68-09840329bc76",
   "metadata": {},
   "source": [
    "## Difference between multoprocessing and multithreading"
   ]
  },
  {
   "cell_type": "markdown",
   "id": "85ccb748-de04-4fee-92e4-606c851e6355",
   "metadata": {},
   "source": [
    "1. Multiprocessing uses two or more CPUs to increase computing power, whereas multithreading uses a single process with multiple code segments to increase computing power.\n",
    "2. Multithreading focuses on generating computing threads from a single process, whereas multiprocessing increases computing power by adding CPUs.\n",
    "3. Multiprocessing is used to create a more reliable system, whereas multithreading is used to create threads that run parallel to each other.\n",
    "4. multithreading is quick to create and requires few resources, whereas multiprocessing requires a significant amount of time and specific resources to create.\n",
    "5. Multiprocessing executes many processes simultaneously, whereas multithreading executes many threads simultaneously.\n",
    "6. Multithreading uses a common address space for all the threads, whereas multiprocessing creates a separate address space for each process."
   ]
  },
  {
   "cell_type": "markdown",
   "id": "d20d7062-3022-4a42-b503-097d7a2a2521",
   "metadata": {},
   "source": [
    "# Question 3"
   ]
  },
  {
   "cell_type": "code",
   "execution_count": 7,
   "id": "66f14a63-396f-44a7-89f4-5bb4559e8c33",
   "metadata": {},
   "outputs": [
    {
     "name": "stdout",
     "output_type": "stream",
     "text": [
      "[<Process name='Process-11' pid=808 parent=278 stopped exitcode=0>, <Process name='Process-12' pid=809 parent=278 stopped exitcode=0>, <Process name='Process-13' pid=810 parent=278 stopped exitcode=0>, <Process name='Process-14' pid=811 parent=278 stopped exitcode=0>, <Process name='Process-15' pid=812 parent=278 stopped exitcode=0>, <Process name='Process-16' pid=813 parent=278 stopped exitcode=0>, <Process name='Process-17' pid=814 parent=278 stopped exitcode=0>, <Process name='Process-18' pid=815 parent=278 stopped exitcode=0>, <Process name='Process-19' pid=816 parent=278 stopped exitcode=0>]\n"
     ]
    }
   ],
   "source": [
    "import multiprocessing\n",
    "def sqaure(lst):\n",
    "    for i in range(len(lst)):\n",
    "        lst[i] = lst[i] ** 2\n",
    "    return lst\n",
    "if __name__==\"__main__\":\n",
    "    lst = multiprocessing.Array('i',[1,2,3,4,5,6,7,8,9])\n",
    "    result_arr = []\n",
    "    for i in range(len(lst)):\n",
    "        multiprocess_var = multiprocessing.Process(target=sqaure,args=(lst,))\n",
    "        multiprocess_var.start()\n",
    "        result_arr.append(multiprocess_var)\n",
    "        multiprocess_var.join()\n",
    "    print(result_arr)"
   ]
  },
  {
   "cell_type": "code",
   "execution_count": 5,
   "id": "02185e1f-7555-4a3c-bcc6-c95dcc3a3fcf",
   "metadata": {},
   "outputs": [
    {
     "name": "stdout",
     "output_type": "stream",
     "text": [
      "Number of cores in my pc are :  64\n"
     ]
    }
   ],
   "source": [
    "print(\"Number of cores in my pc are : \",multiprocessing.cpu_count())"
   ]
  },
  {
   "cell_type": "markdown",
   "id": "69582c30-1d31-40ea-9a3d-867e57154a9a",
   "metadata": {},
   "source": [
    "# Question 4"
   ]
  },
  {
   "cell_type": "markdown",
   "id": "e244bfa6-7aff-4068-8a13-12a1fa4e2962",
   "metadata": {},
   "source": [
    "## Python multiprocessing Pool can be used for parallel execution of a function across multiple input values, distributing the input data across processes (data parallelism). "
   ]
  },
  {
   "cell_type": "markdown",
   "id": "c2a973ea-6714-4610-89a2-e68808af5840",
   "metadata": {},
   "source": [
    "# Question 5\n"
   ]
  },
  {
   "cell_type": "code",
   "execution_count": 8,
   "id": "a0fdba7a-d252-4b81-b788-17bf1f57a708",
   "metadata": {},
   "outputs": [
    {
     "name": "stdout",
     "output_type": "stream",
     "text": [
      "[2, 4, 6, 8, 10]\n"
     ]
    }
   ],
   "source": [
    "import multiprocessing\n",
    "\n",
    "def worker_function(input_value):\n",
    "    # This is the function that each worker process will execute\n",
    "    # It takes an input value as an argument and returns a result\n",
    "    result = input_value * 2\n",
    "    return result\n",
    "\n",
    "if __name__ == '__main__':\n",
    "    # Create a pool of worker processes with 4 workers\n",
    "    pool = multiprocessing.Pool(processes=4)\n",
    "\n",
    "    # Define a list of input values to process\n",
    "    input_values = [1, 2, 3, 4, 5]\n",
    "\n",
    "    # Map the worker function to the input values using the pool of workers\n",
    "    results = pool.map(worker_function, input_values)\n",
    "\n",
    "    # Close the pool to prevent further task submissions\n",
    "    pool.close()\n",
    "\n",
    "    # Wait for the worker processes to complete\n",
    "    pool.join()\n",
    "\n",
    "    # Print the results\n",
    "    print(results)\n"
   ]
  },
  {
   "cell_type": "markdown",
   "id": "44be93fe-9a71-4720-bbc9-ba5625781a30",
   "metadata": {},
   "source": [
    "# Question 6"
   ]
  },
  {
   "cell_type": "code",
   "execution_count": 9,
   "id": "6055794c-f45e-4ba2-8997-d74050932922",
   "metadata": {},
   "outputs": [
    {
     "name": "stdout",
     "output_type": "stream",
     "text": [
      "Process Process-24 printed 0\n",
      "Process Process-25 printed 1\n",
      "Process Process-26 printed 2\n",
      "Process Process-27 printed 3\n"
     ]
    }
   ],
   "source": [
    "import multiprocessing\n",
    "\n",
    "def print_number(num):\n",
    "    print(f\"Process {multiprocessing.current_process().name} printed {num}\")\n",
    "\n",
    "if __name__ == '__main__':\n",
    "    processes = []\n",
    "    for i in range(4):\n",
    "        process = multiprocessing.Process(target=print_number, args=(i,))\n",
    "        processes.append(process)\n",
    "        process.start()\n",
    "    \n",
    "    for process in processes:\n",
    "        process.join()\n"
   ]
  },
  {
   "cell_type": "code",
   "execution_count": null,
   "id": "7ba8ba9b-a692-4b9b-934e-d095a9e4c3a3",
   "metadata": {},
   "outputs": [],
   "source": []
  }
 ],
 "metadata": {
  "kernelspec": {
   "display_name": "Python 3 (ipykernel)",
   "language": "python",
   "name": "python3"
  },
  "language_info": {
   "codemirror_mode": {
    "name": "ipython",
    "version": 3
   },
   "file_extension": ".py",
   "mimetype": "text/x-python",
   "name": "python",
   "nbconvert_exporter": "python",
   "pygments_lexer": "ipython3",
   "version": "3.10.8"
  }
 },
 "nbformat": 4,
 "nbformat_minor": 5
}
